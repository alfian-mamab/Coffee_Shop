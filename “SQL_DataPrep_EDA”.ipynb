{
  "nbformat": 4,
  "nbformat_minor": 0,
  "metadata": {
    "colab": {
      "provenance": [],
      "authorship_tag": "ABX9TyNNIbSvpNSZUiEwm+ZQeqKP",
      "include_colab_link": true
    },
    "kernelspec": {
      "name": "python3",
      "display_name": "Python 3"
    },
    "language_info": {
      "name": "python"
    }
  },
  "cells": [
    {
      "cell_type": "markdown",
      "metadata": {
        "id": "view-in-github",
        "colab_type": "text"
      },
      "source": [
        "<a href=\"https://colab.research.google.com/github/alfian-mamab/Coffee_Shop/blob/main/%E2%80%9CSQL_DataPrep_EDA%E2%80%9D.ipynb\" target=\"_parent\"><img src=\"https://colab.research.google.com/assets/colab-badge.svg\" alt=\"Open In Colab\"/></a>"
      ]
    },
    {
      "cell_type": "markdown",
      "source": [
        "In this section, Google collab will be linked to the data file"
      ],
      "metadata": {
        "id": "0FmT2goCpb8A"
      }
    },
    {
      "cell_type": "code",
      "execution_count": null,
      "metadata": {
        "colab": {
          "base_uri": "https://localhost:8080/"
        },
        "id": "fLQF1Zo862vv",
        "outputId": "1e007fc4-20e9-4480-ebfd-2f89ea802a61"
      },
      "outputs": [
        {
          "output_type": "stream",
          "name": "stdout",
          "text": [
            "Drive already mounted at /content/gdrive; to attempt to forcibly remount, call drive.mount(\"/content/gdrive\", force_remount=True).\n"
          ]
        }
      ],
      "source": [
        "#Connecting Google Collab with GDrive\n",
        "from google.colab import drive\n",
        "drive.mount('/content/gdrive')\n",
        "import os"
      ]
    },
    {
      "cell_type": "code",
      "source": [
        "#Connecting targeted folder with google collab\n",
        "path = \"/content/gdrive/MyDrive/NarasiO/Meet 21 - Capstone/\"\n",
        "os.listdir(path)"
      ],
      "metadata": {
        "colab": {
          "base_uri": "https://localhost:8080/"
        },
        "id": "JvHjsUyG7hAt",
        "outputId": "3ce9fded-79dd-49f3-c735-5d4f16eaac53"
      },
      "execution_count": null,
      "outputs": [
        {
          "output_type": "execute_result",
          "data": {
            "text/plain": [
              "['CoffeeShop_Dataset.db',\n",
              " 'Catatan.gdoc',\n",
              " 'salesoutlet.xlsx',\n",
              " 'product.xlsx',\n",
              " 'pastryinventory.xlsx',\n",
              " 'generations.xlsx',\n",
              " 'salesreciepts.xlsx',\n",
              " 'customer.xlsx',\n",
              " 'customergeneration.xlsx',\n",
              " '“Case 1 - Alfian Afan”.ipynb']"
            ]
          },
          "metadata": {},
          "execution_count": 42
        }
      ]
    },
    {
      "cell_type": "code",
      "source": [
        "# Import packages\n",
        "import sqlite3\n",
        "import pandas as pd\n",
        "import numpy as np\n",
        "from numpy import random\n",
        "from numpy import mean\n",
        "from numpy.random import seed\n",
        "import scipy.stats as stats\n",
        "from scipy.stats import ttest_1samp, ttest_ind\n",
        "import seaborn as sns\n",
        "import matplotlib.pyplot as plt"
      ],
      "metadata": {
        "id": "vj3rxmtB79Bo"
      },
      "execution_count": null,
      "outputs": []
    },
    {
      "cell_type": "code",
      "source": [
        "# Connecting file with google collab\n",
        "conn = sqlite3.connect(path + 'CoffeeShop_Dataset.db')\n",
        "cur = conn.cursor()\n",
        "cur.execute(\"SELECT name FROM sqlite_master WHERE type='table'\")\n",
        "print(cur.fetchall())"
      ],
      "metadata": {
        "colab": {
          "base_uri": "https://localhost:8080/"
        },
        "id": "bwjnMj2d7wQH",
        "outputId": "dac11f7c-dcc2-4837-8976-8c3dfca8b6df"
      },
      "execution_count": null,
      "outputs": [
        {
          "output_type": "stream",
          "name": "stdout",
          "text": [
            "[('sales outlet',), ('pastry inventory',), ('product',), ('generations',), ('sales reciepts',), ('customer',)]\n"
          ]
        }
      ]
    },
    {
      "cell_type": "markdown",
      "source": [
        "The steps will be divided into 3 major parts, including\n",
        "1. Data preparation\n",
        "2. Descriptive Statistical\n",
        "3. Problem Discovery"
      ],
      "metadata": {
        "id": "82ozJZ0JoxHI"
      }
    },
    {
      "cell_type": "code",
      "source": [
        "#PART 1. DATA PREPARATION"
      ],
      "metadata": {
        "id": "uXNXrk7JOVBQ"
      },
      "execution_count": null,
      "outputs": []
    },
    {
      "cell_type": "markdown",
      "source": [
        "PART 1. DATA PREPARATION\n",
        "\n",
        "In the data preparation section, there are several things that will be done, starting from taking data tables, then checking for missing values, duplications, and wrong data types, then if necessary, merging tables, changing column names, and changing data formats"
      ],
      "metadata": {
        "id": "9PkNrrIRpzDI"
      }
    },
    {
      "cell_type": "code",
      "source": [
        "# 1.1 Sales Outlet Data\n",
        "\n",
        "#Take data sales outlet table\n",
        "salesoutlet_table = pd.read_sql_query('''SELECT *\n",
        "                                      FROM 'sales outlet'\n",
        "                                      ''', conn)\n",
        "#Check missing value potential\n",
        "print(salesoutlet_table.info())\n",
        "print('there is missing value in manager but the data is string')"
      ],
      "metadata": {
        "colab": {
          "base_uri": "https://localhost:8080/"
        },
        "id": "Gyyk7Ev49rhh",
        "outputId": "888d0990-3ba0-43ba-93c4-f143c42d262c"
      },
      "execution_count": null,
      "outputs": [
        {
          "output_type": "stream",
          "name": "stdout",
          "text": [
            "<class 'pandas.core.frame.DataFrame'>\n",
            "RangeIndex: 9 entries, 0 to 8\n",
            "Data columns (total 12 columns):\n",
            " #   Column                Non-Null Count  Dtype  \n",
            "---  ------                --------------  -----  \n",
            " 0   sales_outlet_id       9 non-null      int64  \n",
            " 1   sales_outlet_type     9 non-null      object \n",
            " 2   store_square_feet     9 non-null      int64  \n",
            " 3   store_address         9 non-null      object \n",
            " 4   store_city            9 non-null      object \n",
            " 5   store_state_province  9 non-null      object \n",
            " 6   store_telephone       9 non-null      object \n",
            " 7   store_postal_code     9 non-null      int64  \n",
            " 8   store_longitude       9 non-null      float64\n",
            " 9   store_latitude        9 non-null      float64\n",
            " 10  manager               8 non-null      float64\n",
            " 11  Neighorhood           9 non-null      object \n",
            "dtypes: float64(3), int64(3), object(6)\n",
            "memory usage: 992.0+ bytes\n",
            "None\n",
            "there is missing value in manager but the data is string\n"
          ]
        }
      ]
    },
    {
      "cell_type": "markdown",
      "source": [
        "there is missing value in manager but the data must be in string form. since the manager id do not has significant value, it can be ignored."
      ],
      "metadata": {
        "id": "aqd0c_51qkxN"
      }
    },
    {
      "cell_type": "code",
      "source": [
        "#Check for duplication of data\n",
        "print(salesoutlet_table[salesoutlet_table.duplicated(keep=False)])\n",
        "print('no duplication')"
      ],
      "metadata": {
        "colab": {
          "base_uri": "https://localhost:8080/"
        },
        "id": "A765N24pse0O",
        "outputId": "bf239ae3-a238-4fad-c2e3-de6343416d93"
      },
      "execution_count": null,
      "outputs": [
        {
          "output_type": "stream",
          "name": "stdout",
          "text": [
            "Empty DataFrame\n",
            "Columns: [sales_outlet_id, sales_outlet_type, store_square_feet, store_address, store_city, store_state_province, store_telephone, store_postal_code, store_longitude, store_latitude, manager, Neighorhood]\n",
            "Index: []\n",
            "no duplication\n"
          ]
        }
      ]
    },
    {
      "cell_type": "code",
      "source": [
        "#Converts the manager column to a string\n",
        "salesoutlet_table['manager'] = salesoutlet_table['manager'].astype(str)\n",
        "salesoutlet_table.head(5)"
      ],
      "metadata": {
        "colab": {
          "base_uri": "https://localhost:8080/",
          "height": 357
        },
        "id": "qrbl5aIltWb1",
        "outputId": "8e7a5fe9-85b7-4c2d-e2a2-ee14c5f300aa"
      },
      "execution_count": null,
      "outputs": [
        {
          "output_type": "execute_result",
          "data": {
            "text/plain": [
              "   sales_outlet_id sales_outlet_type  store_square_feet       store_address  \\\n",
              "0                2         warehouse               3400  164-14 Jamaica Ave   \n",
              "1                3            retail               1300      32-20 Broadway   \n",
              "2                4            retail               1300    604 Union Street   \n",
              "3                5            retail                900   100 Church Street   \n",
              "4                6            retail               1000      122 E Broadway   \n",
              "\n",
              "         store_city store_state_province store_telephone  store_postal_code  \\\n",
              "0           Jamaica                   NY    972-871-0402              11432   \n",
              "1  Long Island City                   NY    777-718-3190              11106   \n",
              "2          Brooklyn                   NY    619-347-5193              11215   \n",
              "3          New York                   NY    343-212-5151              10007   \n",
              "4          New York                   NY    613-555-4989              10002   \n",
              "\n",
              "   store_longitude  store_latitude manager      Neighorhood  \n",
              "0       -73.795168       40.705226     nan          Jamaica  \n",
              "1       -73.924008       40.761196     6.0          Astoria  \n",
              "2       -73.983984       40.677645    11.0          Gowanus  \n",
              "3       -74.010130       40.713290    16.0  Lower Manhattan  \n",
              "4       -73.992687       40.713852    21.0  Lower East Side  "
            ],
            "text/html": [
              "\n",
              "  <div id=\"df-19acc237-40e9-4dbd-b44e-171e87a0af68\">\n",
              "    <div class=\"colab-df-container\">\n",
              "      <div>\n",
              "<style scoped>\n",
              "    .dataframe tbody tr th:only-of-type {\n",
              "        vertical-align: middle;\n",
              "    }\n",
              "\n",
              "    .dataframe tbody tr th {\n",
              "        vertical-align: top;\n",
              "    }\n",
              "\n",
              "    .dataframe thead th {\n",
              "        text-align: right;\n",
              "    }\n",
              "</style>\n",
              "<table border=\"1\" class=\"dataframe\">\n",
              "  <thead>\n",
              "    <tr style=\"text-align: right;\">\n",
              "      <th></th>\n",
              "      <th>sales_outlet_id</th>\n",
              "      <th>sales_outlet_type</th>\n",
              "      <th>store_square_feet</th>\n",
              "      <th>store_address</th>\n",
              "      <th>store_city</th>\n",
              "      <th>store_state_province</th>\n",
              "      <th>store_telephone</th>\n",
              "      <th>store_postal_code</th>\n",
              "      <th>store_longitude</th>\n",
              "      <th>store_latitude</th>\n",
              "      <th>manager</th>\n",
              "      <th>Neighorhood</th>\n",
              "    </tr>\n",
              "  </thead>\n",
              "  <tbody>\n",
              "    <tr>\n",
              "      <th>0</th>\n",
              "      <td>2</td>\n",
              "      <td>warehouse</td>\n",
              "      <td>3400</td>\n",
              "      <td>164-14 Jamaica Ave</td>\n",
              "      <td>Jamaica</td>\n",
              "      <td>NY</td>\n",
              "      <td>972-871-0402</td>\n",
              "      <td>11432</td>\n",
              "      <td>-73.795168</td>\n",
              "      <td>40.705226</td>\n",
              "      <td>nan</td>\n",
              "      <td>Jamaica</td>\n",
              "    </tr>\n",
              "    <tr>\n",
              "      <th>1</th>\n",
              "      <td>3</td>\n",
              "      <td>retail</td>\n",
              "      <td>1300</td>\n",
              "      <td>32-20 Broadway</td>\n",
              "      <td>Long Island City</td>\n",
              "      <td>NY</td>\n",
              "      <td>777-718-3190</td>\n",
              "      <td>11106</td>\n",
              "      <td>-73.924008</td>\n",
              "      <td>40.761196</td>\n",
              "      <td>6.0</td>\n",
              "      <td>Astoria</td>\n",
              "    </tr>\n",
              "    <tr>\n",
              "      <th>2</th>\n",
              "      <td>4</td>\n",
              "      <td>retail</td>\n",
              "      <td>1300</td>\n",
              "      <td>604 Union Street</td>\n",
              "      <td>Brooklyn</td>\n",
              "      <td>NY</td>\n",
              "      <td>619-347-5193</td>\n",
              "      <td>11215</td>\n",
              "      <td>-73.983984</td>\n",
              "      <td>40.677645</td>\n",
              "      <td>11.0</td>\n",
              "      <td>Gowanus</td>\n",
              "    </tr>\n",
              "    <tr>\n",
              "      <th>3</th>\n",
              "      <td>5</td>\n",
              "      <td>retail</td>\n",
              "      <td>900</td>\n",
              "      <td>100 Church Street</td>\n",
              "      <td>New York</td>\n",
              "      <td>NY</td>\n",
              "      <td>343-212-5151</td>\n",
              "      <td>10007</td>\n",
              "      <td>-74.010130</td>\n",
              "      <td>40.713290</td>\n",
              "      <td>16.0</td>\n",
              "      <td>Lower Manhattan</td>\n",
              "    </tr>\n",
              "    <tr>\n",
              "      <th>4</th>\n",
              "      <td>6</td>\n",
              "      <td>retail</td>\n",
              "      <td>1000</td>\n",
              "      <td>122 E Broadway</td>\n",
              "      <td>New York</td>\n",
              "      <td>NY</td>\n",
              "      <td>613-555-4989</td>\n",
              "      <td>10002</td>\n",
              "      <td>-73.992687</td>\n",
              "      <td>40.713852</td>\n",
              "      <td>21.0</td>\n",
              "      <td>Lower East Side</td>\n",
              "    </tr>\n",
              "  </tbody>\n",
              "</table>\n",
              "</div>\n",
              "      <button class=\"colab-df-convert\" onclick=\"convertToInteractive('df-19acc237-40e9-4dbd-b44e-171e87a0af68')\"\n",
              "              title=\"Convert this dataframe to an interactive table.\"\n",
              "              style=\"display:none;\">\n",
              "        \n",
              "  <svg xmlns=\"http://www.w3.org/2000/svg\" height=\"24px\"viewBox=\"0 0 24 24\"\n",
              "       width=\"24px\">\n",
              "    <path d=\"M0 0h24v24H0V0z\" fill=\"none\"/>\n",
              "    <path d=\"M18.56 5.44l.94 2.06.94-2.06 2.06-.94-2.06-.94-.94-2.06-.94 2.06-2.06.94zm-11 1L8.5 8.5l.94-2.06 2.06-.94-2.06-.94L8.5 2.5l-.94 2.06-2.06.94zm10 10l.94 2.06.94-2.06 2.06-.94-2.06-.94-.94-2.06-.94 2.06-2.06.94z\"/><path d=\"M17.41 7.96l-1.37-1.37c-.4-.4-.92-.59-1.43-.59-.52 0-1.04.2-1.43.59L10.3 9.45l-7.72 7.72c-.78.78-.78 2.05 0 2.83L4 21.41c.39.39.9.59 1.41.59.51 0 1.02-.2 1.41-.59l7.78-7.78 2.81-2.81c.8-.78.8-2.07 0-2.86zM5.41 20L4 18.59l7.72-7.72 1.47 1.35L5.41 20z\"/>\n",
              "  </svg>\n",
              "      </button>\n",
              "      \n",
              "  <style>\n",
              "    .colab-df-container {\n",
              "      display:flex;\n",
              "      flex-wrap:wrap;\n",
              "      gap: 12px;\n",
              "    }\n",
              "\n",
              "    .colab-df-convert {\n",
              "      background-color: #E8F0FE;\n",
              "      border: none;\n",
              "      border-radius: 50%;\n",
              "      cursor: pointer;\n",
              "      display: none;\n",
              "      fill: #1967D2;\n",
              "      height: 32px;\n",
              "      padding: 0 0 0 0;\n",
              "      width: 32px;\n",
              "    }\n",
              "\n",
              "    .colab-df-convert:hover {\n",
              "      background-color: #E2EBFA;\n",
              "      box-shadow: 0px 1px 2px rgba(60, 64, 67, 0.3), 0px 1px 3px 1px rgba(60, 64, 67, 0.15);\n",
              "      fill: #174EA6;\n",
              "    }\n",
              "\n",
              "    [theme=dark] .colab-df-convert {\n",
              "      background-color: #3B4455;\n",
              "      fill: #D2E3FC;\n",
              "    }\n",
              "\n",
              "    [theme=dark] .colab-df-convert:hover {\n",
              "      background-color: #434B5C;\n",
              "      box-shadow: 0px 1px 3px 1px rgba(0, 0, 0, 0.15);\n",
              "      filter: drop-shadow(0px 1px 2px rgba(0, 0, 0, 0.3));\n",
              "      fill: #FFFFFF;\n",
              "    }\n",
              "  </style>\n",
              "\n",
              "      <script>\n",
              "        const buttonEl =\n",
              "          document.querySelector('#df-19acc237-40e9-4dbd-b44e-171e87a0af68 button.colab-df-convert');\n",
              "        buttonEl.style.display =\n",
              "          google.colab.kernel.accessAllowed ? 'block' : 'none';\n",
              "\n",
              "        async function convertToInteractive(key) {\n",
              "          const element = document.querySelector('#df-19acc237-40e9-4dbd-b44e-171e87a0af68');\n",
              "          const dataTable =\n",
              "            await google.colab.kernel.invokeFunction('convertToInteractive',\n",
              "                                                     [key], {});\n",
              "          if (!dataTable) return;\n",
              "\n",
              "          const docLinkHtml = 'Like what you see? Visit the ' +\n",
              "            '<a target=\"_blank\" href=https://colab.research.google.com/notebooks/data_table.ipynb>data table notebook</a>'\n",
              "            + ' to learn more about interactive tables.';\n",
              "          element.innerHTML = '';\n",
              "          dataTable['output_type'] = 'display_data';\n",
              "          await google.colab.output.renderOutput(dataTable, element);\n",
              "          const docLink = document.createElement('div');\n",
              "          docLink.innerHTML = docLinkHtml;\n",
              "          element.appendChild(docLink);\n",
              "        }\n",
              "      </script>\n",
              "    </div>\n",
              "  </div>\n",
              "  "
            ]
          },
          "metadata": {},
          "execution_count": 48
        }
      ]
    },
    {
      "cell_type": "code",
      "source": [
        "#1.2 Pastry Inventory Data\n",
        "\n",
        "#Retrieve pastry inventory data\n",
        "pastryinventory_table = pd.read_sql_query('''SELECT *\n",
        "                                      FROM 'pastry inventory'\n",
        "                                      ''', conn)\n",
        "#Checking Data Types and Seeing Potential Missing Values\n",
        "print(pastryinventory_table.info())\n",
        "print('the transaction_date column needs to be changed to date type and waste to integer type by removing the % symbol')"
      ],
      "metadata": {
        "colab": {
          "base_uri": "https://localhost:8080/"
        },
        "id": "OjEUu0NB-SNE",
        "outputId": "e4c2ad01-fd8f-45bd-c012-556d5386b26e"
      },
      "execution_count": null,
      "outputs": [
        {
          "output_type": "stream",
          "name": "stdout",
          "text": [
            "<class 'pandas.core.frame.DataFrame'>\n",
            "RangeIndex: 307 entries, 0 to 306\n",
            "Data columns (total 7 columns):\n",
            " #   Column            Non-Null Count  Dtype \n",
            "---  ------            --------------  ----- \n",
            " 0   sales_outlet_id   307 non-null    int64 \n",
            " 1   transaction_date  307 non-null    object\n",
            " 2   product_id        307 non-null    int64 \n",
            " 3   start_of_day      307 non-null    int64 \n",
            " 4   quantity_sold     307 non-null    int64 \n",
            " 5   waste             307 non-null    int64 \n",
            " 6   % waste           307 non-null    object\n",
            "dtypes: int64(5), object(2)\n",
            "memory usage: 16.9+ KB\n",
            "None\n",
            "the transaction_date column needs to be changed to date type and waste to integer type by removing the % symbol\n"
          ]
        }
      ]
    },
    {
      "cell_type": "markdown",
      "source": [
        "there is \"%\" symbol in waste data colomn, so it must be removed and the data type should be converted into integer type\n",
        "morover, the transaction date still in object type"
      ],
      "metadata": {
        "id": "fi7L_emrrKJi"
      }
    },
    {
      "cell_type": "code",
      "source": [
        "#Change the transaction_date column to the date type\n",
        "pastryinventory_table['transaction_date'] = pd.to_datetime(pastryinventory_table['transaction_date'])\n",
        "#Changed the % Waste column to float type\n",
        "pastryinventory_table['% waste'] = pastryinventory_table['% waste'].str.rstrip('%').astype('float') / 100.0\n",
        "print(pastryinventory_table.info())"
      ],
      "metadata": {
        "colab": {
          "base_uri": "https://localhost:8080/"
        },
        "id": "WBa-HCTvt0CA",
        "outputId": "c65b17e7-4904-4c9a-87d4-8386dbdc3661"
      },
      "execution_count": null,
      "outputs": [
        {
          "output_type": "stream",
          "name": "stdout",
          "text": [
            "<class 'pandas.core.frame.DataFrame'>\n",
            "RangeIndex: 307 entries, 0 to 306\n",
            "Data columns (total 7 columns):\n",
            " #   Column            Non-Null Count  Dtype         \n",
            "---  ------            --------------  -----         \n",
            " 0   sales_outlet_id   307 non-null    int64         \n",
            " 1   transaction_date  307 non-null    datetime64[ns]\n",
            " 2   product_id        307 non-null    int64         \n",
            " 3   start_of_day      307 non-null    int64         \n",
            " 4   quantity_sold     307 non-null    int64         \n",
            " 5   waste             307 non-null    int64         \n",
            " 6   % waste           307 non-null    float64       \n",
            "dtypes: datetime64[ns](1), float64(1), int64(5)\n",
            "memory usage: 16.9 KB\n",
            "None\n"
          ]
        }
      ]
    },
    {
      "cell_type": "code",
      "source": [
        "#Checking for Potential Duplicate Data\n",
        "print(pastryinventory_table[pastryinventory_table.duplicated(keep=False)])\n",
        "print('No Duplication')"
      ],
      "metadata": {
        "colab": {
          "base_uri": "https://localhost:8080/"
        },
        "id": "fiM1g-44toCg",
        "outputId": "00e04939-6b18-4203-8c7b-1b95f5fb388e"
      },
      "execution_count": null,
      "outputs": [
        {
          "output_type": "stream",
          "name": "stdout",
          "text": [
            "Empty DataFrame\n",
            "Columns: [sales_outlet_id, transaction_date, product_id, start_of_day, quantity_sold, waste, % waste]\n",
            "Index: []\n",
            "No Duplication\n"
          ]
        }
      ]
    },
    {
      "cell_type": "code",
      "source": [
        "pastryinventory_table.head(5)"
      ],
      "metadata": {
        "colab": {
          "base_uri": "https://localhost:8080/",
          "height": 206
        },
        "id": "Ks7DJ5v8tn6-",
        "outputId": "c3ac1775-aaba-451d-cdbf-93c5fd9d408b"
      },
      "execution_count": null,
      "outputs": [
        {
          "output_type": "execute_result",
          "data": {
            "text/plain": [
              "   sales_outlet_id transaction_date  product_id  start_of_day  quantity_sold  \\\n",
              "0                3       2019-04-01          69            18              8   \n",
              "1                3       2019-04-01          70            18             12   \n",
              "2                3       2019-04-01          71            18              8   \n",
              "3                3       2019-04-01          72            48              9   \n",
              "4                3       2019-04-01          73            18              9   \n",
              "\n",
              "   waste  % waste  \n",
              "0     10     0.56  \n",
              "1      6     0.33  \n",
              "2     10     0.56  \n",
              "3     39     0.81  \n",
              "4      9     0.50  "
            ],
            "text/html": [
              "\n",
              "  <div id=\"df-232e675e-ee55-446d-aace-1dc698c14803\">\n",
              "    <div class=\"colab-df-container\">\n",
              "      <div>\n",
              "<style scoped>\n",
              "    .dataframe tbody tr th:only-of-type {\n",
              "        vertical-align: middle;\n",
              "    }\n",
              "\n",
              "    .dataframe tbody tr th {\n",
              "        vertical-align: top;\n",
              "    }\n",
              "\n",
              "    .dataframe thead th {\n",
              "        text-align: right;\n",
              "    }\n",
              "</style>\n",
              "<table border=\"1\" class=\"dataframe\">\n",
              "  <thead>\n",
              "    <tr style=\"text-align: right;\">\n",
              "      <th></th>\n",
              "      <th>sales_outlet_id</th>\n",
              "      <th>transaction_date</th>\n",
              "      <th>product_id</th>\n",
              "      <th>start_of_day</th>\n",
              "      <th>quantity_sold</th>\n",
              "      <th>waste</th>\n",
              "      <th>% waste</th>\n",
              "    </tr>\n",
              "  </thead>\n",
              "  <tbody>\n",
              "    <tr>\n",
              "      <th>0</th>\n",
              "      <td>3</td>\n",
              "      <td>2019-04-01</td>\n",
              "      <td>69</td>\n",
              "      <td>18</td>\n",
              "      <td>8</td>\n",
              "      <td>10</td>\n",
              "      <td>0.56</td>\n",
              "    </tr>\n",
              "    <tr>\n",
              "      <th>1</th>\n",
              "      <td>3</td>\n",
              "      <td>2019-04-01</td>\n",
              "      <td>70</td>\n",
              "      <td>18</td>\n",
              "      <td>12</td>\n",
              "      <td>6</td>\n",
              "      <td>0.33</td>\n",
              "    </tr>\n",
              "    <tr>\n",
              "      <th>2</th>\n",
              "      <td>3</td>\n",
              "      <td>2019-04-01</td>\n",
              "      <td>71</td>\n",
              "      <td>18</td>\n",
              "      <td>8</td>\n",
              "      <td>10</td>\n",
              "      <td>0.56</td>\n",
              "    </tr>\n",
              "    <tr>\n",
              "      <th>3</th>\n",
              "      <td>3</td>\n",
              "      <td>2019-04-01</td>\n",
              "      <td>72</td>\n",
              "      <td>48</td>\n",
              "      <td>9</td>\n",
              "      <td>39</td>\n",
              "      <td>0.81</td>\n",
              "    </tr>\n",
              "    <tr>\n",
              "      <th>4</th>\n",
              "      <td>3</td>\n",
              "      <td>2019-04-01</td>\n",
              "      <td>73</td>\n",
              "      <td>18</td>\n",
              "      <td>9</td>\n",
              "      <td>9</td>\n",
              "      <td>0.50</td>\n",
              "    </tr>\n",
              "  </tbody>\n",
              "</table>\n",
              "</div>\n",
              "      <button class=\"colab-df-convert\" onclick=\"convertToInteractive('df-232e675e-ee55-446d-aace-1dc698c14803')\"\n",
              "              title=\"Convert this dataframe to an interactive table.\"\n",
              "              style=\"display:none;\">\n",
              "        \n",
              "  <svg xmlns=\"http://www.w3.org/2000/svg\" height=\"24px\"viewBox=\"0 0 24 24\"\n",
              "       width=\"24px\">\n",
              "    <path d=\"M0 0h24v24H0V0z\" fill=\"none\"/>\n",
              "    <path d=\"M18.56 5.44l.94 2.06.94-2.06 2.06-.94-2.06-.94-.94-2.06-.94 2.06-2.06.94zm-11 1L8.5 8.5l.94-2.06 2.06-.94-2.06-.94L8.5 2.5l-.94 2.06-2.06.94zm10 10l.94 2.06.94-2.06 2.06-.94-2.06-.94-.94-2.06-.94 2.06-2.06.94z\"/><path d=\"M17.41 7.96l-1.37-1.37c-.4-.4-.92-.59-1.43-.59-.52 0-1.04.2-1.43.59L10.3 9.45l-7.72 7.72c-.78.78-.78 2.05 0 2.83L4 21.41c.39.39.9.59 1.41.59.51 0 1.02-.2 1.41-.59l7.78-7.78 2.81-2.81c.8-.78.8-2.07 0-2.86zM5.41 20L4 18.59l7.72-7.72 1.47 1.35L5.41 20z\"/>\n",
              "  </svg>\n",
              "      </button>\n",
              "      \n",
              "  <style>\n",
              "    .colab-df-container {\n",
              "      display:flex;\n",
              "      flex-wrap:wrap;\n",
              "      gap: 12px;\n",
              "    }\n",
              "\n",
              "    .colab-df-convert {\n",
              "      background-color: #E8F0FE;\n",
              "      border: none;\n",
              "      border-radius: 50%;\n",
              "      cursor: pointer;\n",
              "      display: none;\n",
              "      fill: #1967D2;\n",
              "      height: 32px;\n",
              "      padding: 0 0 0 0;\n",
              "      width: 32px;\n",
              "    }\n",
              "\n",
              "    .colab-df-convert:hover {\n",
              "      background-color: #E2EBFA;\n",
              "      box-shadow: 0px 1px 2px rgba(60, 64, 67, 0.3), 0px 1px 3px 1px rgba(60, 64, 67, 0.15);\n",
              "      fill: #174EA6;\n",
              "    }\n",
              "\n",
              "    [theme=dark] .colab-df-convert {\n",
              "      background-color: #3B4455;\n",
              "      fill: #D2E3FC;\n",
              "    }\n",
              "\n",
              "    [theme=dark] .colab-df-convert:hover {\n",
              "      background-color: #434B5C;\n",
              "      box-shadow: 0px 1px 3px 1px rgba(0, 0, 0, 0.15);\n",
              "      filter: drop-shadow(0px 1px 2px rgba(0, 0, 0, 0.3));\n",
              "      fill: #FFFFFF;\n",
              "    }\n",
              "  </style>\n",
              "\n",
              "      <script>\n",
              "        const buttonEl =\n",
              "          document.querySelector('#df-232e675e-ee55-446d-aace-1dc698c14803 button.colab-df-convert');\n",
              "        buttonEl.style.display =\n",
              "          google.colab.kernel.accessAllowed ? 'block' : 'none';\n",
              "\n",
              "        async function convertToInteractive(key) {\n",
              "          const element = document.querySelector('#df-232e675e-ee55-446d-aace-1dc698c14803');\n",
              "          const dataTable =\n",
              "            await google.colab.kernel.invokeFunction('convertToInteractive',\n",
              "                                                     [key], {});\n",
              "          if (!dataTable) return;\n",
              "\n",
              "          const docLinkHtml = 'Like what you see? Visit the ' +\n",
              "            '<a target=\"_blank\" href=https://colab.research.google.com/notebooks/data_table.ipynb>data table notebook</a>'\n",
              "            + ' to learn more about interactive tables.';\n",
              "          element.innerHTML = '';\n",
              "          dataTable['output_type'] = 'display_data';\n",
              "          await google.colab.output.renderOutput(dataTable, element);\n",
              "          const docLink = document.createElement('div');\n",
              "          docLink.innerHTML = docLinkHtml;\n",
              "          element.appendChild(docLink);\n",
              "        }\n",
              "      </script>\n",
              "    </div>\n",
              "  </div>\n",
              "  "
            ]
          },
          "metadata": {},
          "execution_count": 52
        }
      ]
    },
    {
      "cell_type": "code",
      "source": [
        "#1.3 Product Data\n",
        "\n",
        "#Mretrieve product data\n",
        "product_table = pd.read_sql_query('''SELECT *\n",
        "                                      FROM product\n",
        "                                      ''', conn)\n",
        "#Checking Data Types and Seeing Potential Missing Values\n",
        "print(product_table.info())\n",
        "print('there is no missing value but the current_retail_price column must be changed to float')"
      ],
      "metadata": {
        "colab": {
          "base_uri": "https://localhost:8080/"
        },
        "id": "ODVF0aWh8Ckd",
        "outputId": "df548359-f06f-4358-e585-b7cf6cc77ad4"
      },
      "execution_count": null,
      "outputs": [
        {
          "output_type": "stream",
          "name": "stdout",
          "text": [
            "<class 'pandas.core.frame.DataFrame'>\n",
            "RangeIndex: 88 entries, 0 to 87\n",
            "Data columns (total 12 columns):\n",
            " #   Column                   Non-Null Count  Dtype  \n",
            "---  ------                   --------------  -----  \n",
            " 0   product_id               88 non-null     int64  \n",
            " 1   product_group            88 non-null     object \n",
            " 2   product_category         88 non-null     object \n",
            " 3   product_type             88 non-null     object \n",
            " 4   product                  88 non-null     object \n",
            " 5   product_description      88 non-null     object \n",
            " 6   unit_of_measure          88 non-null     object \n",
            " 7   current_wholesale_price  88 non-null     float64\n",
            " 8   current_retail_price     88 non-null     object \n",
            " 9   tax_exempt_yn            88 non-null     object \n",
            " 10  promo_yn                 88 non-null     object \n",
            " 11  new_product_yn           88 non-null     object \n",
            "dtypes: float64(1), int64(1), object(10)\n",
            "memory usage: 8.4+ KB\n",
            "None\n",
            "there is no missing value but the current_retail_price column must be changed to float\n"
          ]
        }
      ]
    },
    {
      "cell_type": "markdown",
      "source": [
        "similar to previous waste case, the current retail data consist currency symbol. in the following step, it will be removed and the data type will converted into flot type"
      ],
      "metadata": {
        "id": "H6rxvTjArufQ"
      }
    },
    {
      "cell_type": "code",
      "source": [
        "#Remove the currency symbol and change the type in the current retail price column data\n",
        "product_table['current_retail_price_$'] = product_table['current_retail_price'].apply(lambda x: float(x[1:]))\n",
        "product_table = product_table.drop(columns=['current_retail_price'])\n",
        "product_table.head()"
      ],
      "metadata": {
        "colab": {
          "base_uri": "https://localhost:8080/",
          "height": 443
        },
        "id": "9Iv-a-z9v1oH",
        "outputId": "f475ee52-d04e-44fd-d572-d7a1938c88d2"
      },
      "execution_count": null,
      "outputs": [
        {
          "output_type": "execute_result",
          "data": {
            "text/plain": [
              "   product_id    product_group product_category       product_type  \\\n",
              "0           1  Whole Bean/Teas     Coffee beans      Organic Beans   \n",
              "1           2  Whole Bean/Teas     Coffee beans  House blend Beans   \n",
              "2           3  Whole Bean/Teas     Coffee beans     Espresso Beans   \n",
              "3           4  Whole Bean/Teas     Coffee beans     Espresso Beans   \n",
              "4           5  Whole Bean/Teas     Coffee beans      Gourmet Beans   \n",
              "\n",
              "                    product  \\\n",
              "0       Brazilian - Organic   \n",
              "1  Our Old Time Diner Blend   \n",
              "2            Espresso Roast   \n",
              "3      Primo Espresso Roast   \n",
              "4    Columbian Medium Roast   \n",
              "\n",
              "                                 product_description unit_of_measure  \\\n",
              "0     It's like Carnival in a cup. Clean and smooth.           12 oz   \n",
              "1  Out packed blend of beans that is reminiscent ...           12 oz   \n",
              "2          Our house blend for a good espresso shot.            1 lb   \n",
              "3   Our primium single source of hand roasted beans.            1 lb   \n",
              "4           A smooth cup of coffee any time of day.             1 lb   \n",
              "\n",
              "   current_wholesale_price tax_exempt_yn promo_yn new_product_yn  \\\n",
              "0                    14.40             Y        N              N   \n",
              "1                    14.40             Y        N              N   \n",
              "2                    11.80             Y        N              N   \n",
              "3                    16.36             Y        N              N   \n",
              "4                    12.00             Y        N              N   \n",
              "\n",
              "   current_retail_price_$  \n",
              "0                   18.00  \n",
              "1                   18.00  \n",
              "2                   14.75  \n",
              "3                   20.45  \n",
              "4                   15.00  "
            ],
            "text/html": [
              "\n",
              "  <div id=\"df-ec776520-6701-456a-b0ff-c463d29ccb2c\">\n",
              "    <div class=\"colab-df-container\">\n",
              "      <div>\n",
              "<style scoped>\n",
              "    .dataframe tbody tr th:only-of-type {\n",
              "        vertical-align: middle;\n",
              "    }\n",
              "\n",
              "    .dataframe tbody tr th {\n",
              "        vertical-align: top;\n",
              "    }\n",
              "\n",
              "    .dataframe thead th {\n",
              "        text-align: right;\n",
              "    }\n",
              "</style>\n",
              "<table border=\"1\" class=\"dataframe\">\n",
              "  <thead>\n",
              "    <tr style=\"text-align: right;\">\n",
              "      <th></th>\n",
              "      <th>product_id</th>\n",
              "      <th>product_group</th>\n",
              "      <th>product_category</th>\n",
              "      <th>product_type</th>\n",
              "      <th>product</th>\n",
              "      <th>product_description</th>\n",
              "      <th>unit_of_measure</th>\n",
              "      <th>current_wholesale_price</th>\n",
              "      <th>tax_exempt_yn</th>\n",
              "      <th>promo_yn</th>\n",
              "      <th>new_product_yn</th>\n",
              "      <th>current_retail_price_$</th>\n",
              "    </tr>\n",
              "  </thead>\n",
              "  <tbody>\n",
              "    <tr>\n",
              "      <th>0</th>\n",
              "      <td>1</td>\n",
              "      <td>Whole Bean/Teas</td>\n",
              "      <td>Coffee beans</td>\n",
              "      <td>Organic Beans</td>\n",
              "      <td>Brazilian - Organic</td>\n",
              "      <td>It's like Carnival in a cup. Clean and smooth.</td>\n",
              "      <td>12 oz</td>\n",
              "      <td>14.40</td>\n",
              "      <td>Y</td>\n",
              "      <td>N</td>\n",
              "      <td>N</td>\n",
              "      <td>18.00</td>\n",
              "    </tr>\n",
              "    <tr>\n",
              "      <th>1</th>\n",
              "      <td>2</td>\n",
              "      <td>Whole Bean/Teas</td>\n",
              "      <td>Coffee beans</td>\n",
              "      <td>House blend Beans</td>\n",
              "      <td>Our Old Time Diner Blend</td>\n",
              "      <td>Out packed blend of beans that is reminiscent ...</td>\n",
              "      <td>12 oz</td>\n",
              "      <td>14.40</td>\n",
              "      <td>Y</td>\n",
              "      <td>N</td>\n",
              "      <td>N</td>\n",
              "      <td>18.00</td>\n",
              "    </tr>\n",
              "    <tr>\n",
              "      <th>2</th>\n",
              "      <td>3</td>\n",
              "      <td>Whole Bean/Teas</td>\n",
              "      <td>Coffee beans</td>\n",
              "      <td>Espresso Beans</td>\n",
              "      <td>Espresso Roast</td>\n",
              "      <td>Our house blend for a good espresso shot.</td>\n",
              "      <td>1 lb</td>\n",
              "      <td>11.80</td>\n",
              "      <td>Y</td>\n",
              "      <td>N</td>\n",
              "      <td>N</td>\n",
              "      <td>14.75</td>\n",
              "    </tr>\n",
              "    <tr>\n",
              "      <th>3</th>\n",
              "      <td>4</td>\n",
              "      <td>Whole Bean/Teas</td>\n",
              "      <td>Coffee beans</td>\n",
              "      <td>Espresso Beans</td>\n",
              "      <td>Primo Espresso Roast</td>\n",
              "      <td>Our primium single source of hand roasted beans.</td>\n",
              "      <td>1 lb</td>\n",
              "      <td>16.36</td>\n",
              "      <td>Y</td>\n",
              "      <td>N</td>\n",
              "      <td>N</td>\n",
              "      <td>20.45</td>\n",
              "    </tr>\n",
              "    <tr>\n",
              "      <th>4</th>\n",
              "      <td>5</td>\n",
              "      <td>Whole Bean/Teas</td>\n",
              "      <td>Coffee beans</td>\n",
              "      <td>Gourmet Beans</td>\n",
              "      <td>Columbian Medium Roast</td>\n",
              "      <td>A smooth cup of coffee any time of day.</td>\n",
              "      <td>1 lb</td>\n",
              "      <td>12.00</td>\n",
              "      <td>Y</td>\n",
              "      <td>N</td>\n",
              "      <td>N</td>\n",
              "      <td>15.00</td>\n",
              "    </tr>\n",
              "  </tbody>\n",
              "</table>\n",
              "</div>\n",
              "      <button class=\"colab-df-convert\" onclick=\"convertToInteractive('df-ec776520-6701-456a-b0ff-c463d29ccb2c')\"\n",
              "              title=\"Convert this dataframe to an interactive table.\"\n",
              "              style=\"display:none;\">\n",
              "        \n",
              "  <svg xmlns=\"http://www.w3.org/2000/svg\" height=\"24px\"viewBox=\"0 0 24 24\"\n",
              "       width=\"24px\">\n",
              "    <path d=\"M0 0h24v24H0V0z\" fill=\"none\"/>\n",
              "    <path d=\"M18.56 5.44l.94 2.06.94-2.06 2.06-.94-2.06-.94-.94-2.06-.94 2.06-2.06.94zm-11 1L8.5 8.5l.94-2.06 2.06-.94-2.06-.94L8.5 2.5l-.94 2.06-2.06.94zm10 10l.94 2.06.94-2.06 2.06-.94-2.06-.94-.94-2.06-.94 2.06-2.06.94z\"/><path d=\"M17.41 7.96l-1.37-1.37c-.4-.4-.92-.59-1.43-.59-.52 0-1.04.2-1.43.59L10.3 9.45l-7.72 7.72c-.78.78-.78 2.05 0 2.83L4 21.41c.39.39.9.59 1.41.59.51 0 1.02-.2 1.41-.59l7.78-7.78 2.81-2.81c.8-.78.8-2.07 0-2.86zM5.41 20L4 18.59l7.72-7.72 1.47 1.35L5.41 20z\"/>\n",
              "  </svg>\n",
              "      </button>\n",
              "      \n",
              "  <style>\n",
              "    .colab-df-container {\n",
              "      display:flex;\n",
              "      flex-wrap:wrap;\n",
              "      gap: 12px;\n",
              "    }\n",
              "\n",
              "    .colab-df-convert {\n",
              "      background-color: #E8F0FE;\n",
              "      border: none;\n",
              "      border-radius: 50%;\n",
              "      cursor: pointer;\n",
              "      display: none;\n",
              "      fill: #1967D2;\n",
              "      height: 32px;\n",
              "      padding: 0 0 0 0;\n",
              "      width: 32px;\n",
              "    }\n",
              "\n",
              "    .colab-df-convert:hover {\n",
              "      background-color: #E2EBFA;\n",
              "      box-shadow: 0px 1px 2px rgba(60, 64, 67, 0.3), 0px 1px 3px 1px rgba(60, 64, 67, 0.15);\n",
              "      fill: #174EA6;\n",
              "    }\n",
              "\n",
              "    [theme=dark] .colab-df-convert {\n",
              "      background-color: #3B4455;\n",
              "      fill: #D2E3FC;\n",
              "    }\n",
              "\n",
              "    [theme=dark] .colab-df-convert:hover {\n",
              "      background-color: #434B5C;\n",
              "      box-shadow: 0px 1px 3px 1px rgba(0, 0, 0, 0.15);\n",
              "      filter: drop-shadow(0px 1px 2px rgba(0, 0, 0, 0.3));\n",
              "      fill: #FFFFFF;\n",
              "    }\n",
              "  </style>\n",
              "\n",
              "      <script>\n",
              "        const buttonEl =\n",
              "          document.querySelector('#df-ec776520-6701-456a-b0ff-c463d29ccb2c button.colab-df-convert');\n",
              "        buttonEl.style.display =\n",
              "          google.colab.kernel.accessAllowed ? 'block' : 'none';\n",
              "\n",
              "        async function convertToInteractive(key) {\n",
              "          const element = document.querySelector('#df-ec776520-6701-456a-b0ff-c463d29ccb2c');\n",
              "          const dataTable =\n",
              "            await google.colab.kernel.invokeFunction('convertToInteractive',\n",
              "                                                     [key], {});\n",
              "          if (!dataTable) return;\n",
              "\n",
              "          const docLinkHtml = 'Like what you see? Visit the ' +\n",
              "            '<a target=\"_blank\" href=https://colab.research.google.com/notebooks/data_table.ipynb>data table notebook</a>'\n",
              "            + ' to learn more about interactive tables.';\n",
              "          element.innerHTML = '';\n",
              "          dataTable['output_type'] = 'display_data';\n",
              "          await google.colab.output.renderOutput(dataTable, element);\n",
              "          const docLink = document.createElement('div');\n",
              "          docLink.innerHTML = docLinkHtml;\n",
              "          element.appendChild(docLink);\n",
              "        }\n",
              "      </script>\n",
              "    </div>\n",
              "  </div>\n",
              "  "
            ]
          },
          "metadata": {},
          "execution_count": 54
        }
      ]
    },
    {
      "cell_type": "code",
      "source": [
        "#Checking for duplicate potential\n",
        "print(product_table[product_table.duplicated(keep=False)])\n",
        "print('no duplication')"
      ],
      "metadata": {
        "colab": {
          "base_uri": "https://localhost:8080/"
        },
        "id": "uZgp4ZEKvKQf",
        "outputId": "1f6d7081-7d40-4197-e869-4ee4d5e1bd12"
      },
      "execution_count": null,
      "outputs": [
        {
          "output_type": "stream",
          "name": "stdout",
          "text": [
            "Empty DataFrame\n",
            "Columns: [product_id, product_group, product_category, product_type, product, product_description, unit_of_measure, current_wholesale_price, tax_exempt_yn, promo_yn, new_product_yn, current_retail_price_$]\n",
            "Index: []\n",
            "no duplication\n"
          ]
        }
      ]
    },
    {
      "cell_type": "code",
      "source": [
        "product_table.head(5)"
      ],
      "metadata": {
        "colab": {
          "base_uri": "https://localhost:8080/",
          "height": 443
        },
        "id": "rSnO5z3jvYto",
        "outputId": "66b4da11-f8cb-4db6-ff80-5b7717754874"
      },
      "execution_count": null,
      "outputs": [
        {
          "output_type": "execute_result",
          "data": {
            "text/plain": [
              "   product_id    product_group product_category       product_type  \\\n",
              "0           1  Whole Bean/Teas     Coffee beans      Organic Beans   \n",
              "1           2  Whole Bean/Teas     Coffee beans  House blend Beans   \n",
              "2           3  Whole Bean/Teas     Coffee beans     Espresso Beans   \n",
              "3           4  Whole Bean/Teas     Coffee beans     Espresso Beans   \n",
              "4           5  Whole Bean/Teas     Coffee beans      Gourmet Beans   \n",
              "\n",
              "                    product  \\\n",
              "0       Brazilian - Organic   \n",
              "1  Our Old Time Diner Blend   \n",
              "2            Espresso Roast   \n",
              "3      Primo Espresso Roast   \n",
              "4    Columbian Medium Roast   \n",
              "\n",
              "                                 product_description unit_of_measure  \\\n",
              "0     It's like Carnival in a cup. Clean and smooth.           12 oz   \n",
              "1  Out packed blend of beans that is reminiscent ...           12 oz   \n",
              "2          Our house blend for a good espresso shot.            1 lb   \n",
              "3   Our primium single source of hand roasted beans.            1 lb   \n",
              "4           A smooth cup of coffee any time of day.             1 lb   \n",
              "\n",
              "   current_wholesale_price tax_exempt_yn promo_yn new_product_yn  \\\n",
              "0                    14.40             Y        N              N   \n",
              "1                    14.40             Y        N              N   \n",
              "2                    11.80             Y        N              N   \n",
              "3                    16.36             Y        N              N   \n",
              "4                    12.00             Y        N              N   \n",
              "\n",
              "   current_retail_price_$  \n",
              "0                   18.00  \n",
              "1                   18.00  \n",
              "2                   14.75  \n",
              "3                   20.45  \n",
              "4                   15.00  "
            ],
            "text/html": [
              "\n",
              "  <div id=\"df-4e5f9920-0d1d-4ec5-9aad-99216f296937\">\n",
              "    <div class=\"colab-df-container\">\n",
              "      <div>\n",
              "<style scoped>\n",
              "    .dataframe tbody tr th:only-of-type {\n",
              "        vertical-align: middle;\n",
              "    }\n",
              "\n",
              "    .dataframe tbody tr th {\n",
              "        vertical-align: top;\n",
              "    }\n",
              "\n",
              "    .dataframe thead th {\n",
              "        text-align: right;\n",
              "    }\n",
              "</style>\n",
              "<table border=\"1\" class=\"dataframe\">\n",
              "  <thead>\n",
              "    <tr style=\"text-align: right;\">\n",
              "      <th></th>\n",
              "      <th>product_id</th>\n",
              "      <th>product_group</th>\n",
              "      <th>product_category</th>\n",
              "      <th>product_type</th>\n",
              "      <th>product</th>\n",
              "      <th>product_description</th>\n",
              "      <th>unit_of_measure</th>\n",
              "      <th>current_wholesale_price</th>\n",
              "      <th>tax_exempt_yn</th>\n",
              "      <th>promo_yn</th>\n",
              "      <th>new_product_yn</th>\n",
              "      <th>current_retail_price_$</th>\n",
              "    </tr>\n",
              "  </thead>\n",
              "  <tbody>\n",
              "    <tr>\n",
              "      <th>0</th>\n",
              "      <td>1</td>\n",
              "      <td>Whole Bean/Teas</td>\n",
              "      <td>Coffee beans</td>\n",
              "      <td>Organic Beans</td>\n",
              "      <td>Brazilian - Organic</td>\n",
              "      <td>It's like Carnival in a cup. Clean and smooth.</td>\n",
              "      <td>12 oz</td>\n",
              "      <td>14.40</td>\n",
              "      <td>Y</td>\n",
              "      <td>N</td>\n",
              "      <td>N</td>\n",
              "      <td>18.00</td>\n",
              "    </tr>\n",
              "    <tr>\n",
              "      <th>1</th>\n",
              "      <td>2</td>\n",
              "      <td>Whole Bean/Teas</td>\n",
              "      <td>Coffee beans</td>\n",
              "      <td>House blend Beans</td>\n",
              "      <td>Our Old Time Diner Blend</td>\n",
              "      <td>Out packed blend of beans that is reminiscent ...</td>\n",
              "      <td>12 oz</td>\n",
              "      <td>14.40</td>\n",
              "      <td>Y</td>\n",
              "      <td>N</td>\n",
              "      <td>N</td>\n",
              "      <td>18.00</td>\n",
              "    </tr>\n",
              "    <tr>\n",
              "      <th>2</th>\n",
              "      <td>3</td>\n",
              "      <td>Whole Bean/Teas</td>\n",
              "      <td>Coffee beans</td>\n",
              "      <td>Espresso Beans</td>\n",
              "      <td>Espresso Roast</td>\n",
              "      <td>Our house blend for a good espresso shot.</td>\n",
              "      <td>1 lb</td>\n",
              "      <td>11.80</td>\n",
              "      <td>Y</td>\n",
              "      <td>N</td>\n",
              "      <td>N</td>\n",
              "      <td>14.75</td>\n",
              "    </tr>\n",
              "    <tr>\n",
              "      <th>3</th>\n",
              "      <td>4</td>\n",
              "      <td>Whole Bean/Teas</td>\n",
              "      <td>Coffee beans</td>\n",
              "      <td>Espresso Beans</td>\n",
              "      <td>Primo Espresso Roast</td>\n",
              "      <td>Our primium single source of hand roasted beans.</td>\n",
              "      <td>1 lb</td>\n",
              "      <td>16.36</td>\n",
              "      <td>Y</td>\n",
              "      <td>N</td>\n",
              "      <td>N</td>\n",
              "      <td>20.45</td>\n",
              "    </tr>\n",
              "    <tr>\n",
              "      <th>4</th>\n",
              "      <td>5</td>\n",
              "      <td>Whole Bean/Teas</td>\n",
              "      <td>Coffee beans</td>\n",
              "      <td>Gourmet Beans</td>\n",
              "      <td>Columbian Medium Roast</td>\n",
              "      <td>A smooth cup of coffee any time of day.</td>\n",
              "      <td>1 lb</td>\n",
              "      <td>12.00</td>\n",
              "      <td>Y</td>\n",
              "      <td>N</td>\n",
              "      <td>N</td>\n",
              "      <td>15.00</td>\n",
              "    </tr>\n",
              "  </tbody>\n",
              "</table>\n",
              "</div>\n",
              "      <button class=\"colab-df-convert\" onclick=\"convertToInteractive('df-4e5f9920-0d1d-4ec5-9aad-99216f296937')\"\n",
              "              title=\"Convert this dataframe to an interactive table.\"\n",
              "              style=\"display:none;\">\n",
              "        \n",
              "  <svg xmlns=\"http://www.w3.org/2000/svg\" height=\"24px\"viewBox=\"0 0 24 24\"\n",
              "       width=\"24px\">\n",
              "    <path d=\"M0 0h24v24H0V0z\" fill=\"none\"/>\n",
              "    <path d=\"M18.56 5.44l.94 2.06.94-2.06 2.06-.94-2.06-.94-.94-2.06-.94 2.06-2.06.94zm-11 1L8.5 8.5l.94-2.06 2.06-.94-2.06-.94L8.5 2.5l-.94 2.06-2.06.94zm10 10l.94 2.06.94-2.06 2.06-.94-2.06-.94-.94-2.06-.94 2.06-2.06.94z\"/><path d=\"M17.41 7.96l-1.37-1.37c-.4-.4-.92-.59-1.43-.59-.52 0-1.04.2-1.43.59L10.3 9.45l-7.72 7.72c-.78.78-.78 2.05 0 2.83L4 21.41c.39.39.9.59 1.41.59.51 0 1.02-.2 1.41-.59l7.78-7.78 2.81-2.81c.8-.78.8-2.07 0-2.86zM5.41 20L4 18.59l7.72-7.72 1.47 1.35L5.41 20z\"/>\n",
              "  </svg>\n",
              "      </button>\n",
              "      \n",
              "  <style>\n",
              "    .colab-df-container {\n",
              "      display:flex;\n",
              "      flex-wrap:wrap;\n",
              "      gap: 12px;\n",
              "    }\n",
              "\n",
              "    .colab-df-convert {\n",
              "      background-color: #E8F0FE;\n",
              "      border: none;\n",
              "      border-radius: 50%;\n",
              "      cursor: pointer;\n",
              "      display: none;\n",
              "      fill: #1967D2;\n",
              "      height: 32px;\n",
              "      padding: 0 0 0 0;\n",
              "      width: 32px;\n",
              "    }\n",
              "\n",
              "    .colab-df-convert:hover {\n",
              "      background-color: #E2EBFA;\n",
              "      box-shadow: 0px 1px 2px rgba(60, 64, 67, 0.3), 0px 1px 3px 1px rgba(60, 64, 67, 0.15);\n",
              "      fill: #174EA6;\n",
              "    }\n",
              "\n",
              "    [theme=dark] .colab-df-convert {\n",
              "      background-color: #3B4455;\n",
              "      fill: #D2E3FC;\n",
              "    }\n",
              "\n",
              "    [theme=dark] .colab-df-convert:hover {\n",
              "      background-color: #434B5C;\n",
              "      box-shadow: 0px 1px 3px 1px rgba(0, 0, 0, 0.15);\n",
              "      filter: drop-shadow(0px 1px 2px rgba(0, 0, 0, 0.3));\n",
              "      fill: #FFFFFF;\n",
              "    }\n",
              "  </style>\n",
              "\n",
              "      <script>\n",
              "        const buttonEl =\n",
              "          document.querySelector('#df-4e5f9920-0d1d-4ec5-9aad-99216f296937 button.colab-df-convert');\n",
              "        buttonEl.style.display =\n",
              "          google.colab.kernel.accessAllowed ? 'block' : 'none';\n",
              "\n",
              "        async function convertToInteractive(key) {\n",
              "          const element = document.querySelector('#df-4e5f9920-0d1d-4ec5-9aad-99216f296937');\n",
              "          const dataTable =\n",
              "            await google.colab.kernel.invokeFunction('convertToInteractive',\n",
              "                                                     [key], {});\n",
              "          if (!dataTable) return;\n",
              "\n",
              "          const docLinkHtml = 'Like what you see? Visit the ' +\n",
              "            '<a target=\"_blank\" href=https://colab.research.google.com/notebooks/data_table.ipynb>data table notebook</a>'\n",
              "            + ' to learn more about interactive tables.';\n",
              "          element.innerHTML = '';\n",
              "          dataTable['output_type'] = 'display_data';\n",
              "          await google.colab.output.renderOutput(dataTable, element);\n",
              "          const docLink = document.createElement('div');\n",
              "          docLink.innerHTML = docLinkHtml;\n",
              "          element.appendChild(docLink);\n",
              "        }\n",
              "      </script>\n",
              "    </div>\n",
              "  </div>\n",
              "  "
            ]
          },
          "metadata": {},
          "execution_count": 56
        }
      ]
    },
    {
      "cell_type": "code",
      "source": [
        "#1.4 Sales Reciepts Data\n",
        "\n",
        "#Retrieving Sales Reciepts Data\n",
        "salesreciepts_table = pd.read_sql_query('''SELECT *\n",
        "                                      FROM 'sales reciepts'\n",
        "                                      ''', conn)\n",
        "#Checking Data Types and Identify Potential Missing Values\n",
        "print(salesreciepts_table.info())\n",
        "print('no missing value')"
      ],
      "metadata": {
        "colab": {
          "base_uri": "https://localhost:8080/"
        },
        "id": "pYT8GcIJ-nJ4",
        "outputId": "7577aa48-ca08-4922-ed8c-6c6278b6d5a0"
      },
      "execution_count": null,
      "outputs": [
        {
          "output_type": "stream",
          "name": "stdout",
          "text": [
            "<class 'pandas.core.frame.DataFrame'>\n",
            "RangeIndex: 49894 entries, 0 to 49893\n",
            "Data columns (total 14 columns):\n",
            " #   Column            Non-Null Count  Dtype  \n",
            "---  ------            --------------  -----  \n",
            " 0   transaction_id    49894 non-null  int64  \n",
            " 1   transaction_date  49894 non-null  object \n",
            " 2   transaction_time  49894 non-null  object \n",
            " 3   sales_outlet_id   49894 non-null  int64  \n",
            " 4   staff_id          49894 non-null  int64  \n",
            " 5   customer_id       49894 non-null  int64  \n",
            " 6   instore_yn        49894 non-null  object \n",
            " 7   order             49894 non-null  int64  \n",
            " 8   line_item_id      49894 non-null  int64  \n",
            " 9   product_id        49894 non-null  int64  \n",
            " 10  quantity          49894 non-null  int64  \n",
            " 11  line_item_amount  49894 non-null  float64\n",
            " 12  unit_price        49894 non-null  float64\n",
            " 13  promo_item_yn     49894 non-null  object \n",
            "dtypes: float64(2), int64(8), object(4)\n",
            "memory usage: 5.3+ MB\n",
            "None\n",
            "no missing value\n"
          ]
        }
      ]
    },
    {
      "cell_type": "code",
      "source": [
        "#Checking data duplication\n",
        "print(salesreciepts_table[salesreciepts_table.duplicated(keep=False)])\n",
        "print('no duplication')"
      ],
      "metadata": {
        "colab": {
          "base_uri": "https://localhost:8080/"
        },
        "id": "OwgFdBTPwPF-",
        "outputId": "d0899c74-f128-427d-e7f1-bee486d546a2"
      },
      "execution_count": null,
      "outputs": [
        {
          "output_type": "stream",
          "name": "stdout",
          "text": [
            "Empty DataFrame\n",
            "Columns: [transaction_id, transaction_date, transaction_time, sales_outlet_id, staff_id, customer_id, instore_yn, order, line_item_id, product_id, quantity, line_item_amount, unit_price, promo_item_yn]\n",
            "Index: []\n",
            "no duplication\n"
          ]
        }
      ]
    },
    {
      "cell_type": "code",
      "source": [
        "salesreciepts_table.head(5)"
      ],
      "metadata": {
        "colab": {
          "base_uri": "https://localhost:8080/",
          "height": 270
        },
        "id": "Ddr-dKVJwUDt",
        "outputId": "90046945-846b-4632-b760-9760e710181d"
      },
      "execution_count": null,
      "outputs": [
        {
          "output_type": "execute_result",
          "data": {
            "text/plain": [
              "   transaction_id transaction_date transaction_time  sales_outlet_id  \\\n",
              "0               7       2019-04-01         12:04:43                3   \n",
              "1              11       2019-04-01         15:54:39                3   \n",
              "2              19       2019-04-01         14:34:59                3   \n",
              "3              32       2019-04-01         16:06:04                3   \n",
              "4              33       2019-04-01         19:18:37                3   \n",
              "\n",
              "   staff_id  customer_id instore_yn  order  line_item_id  product_id  \\\n",
              "0        12          558          N      1             1          52   \n",
              "1        17          781          N      1             1          27   \n",
              "2        17          788          Y      1             1          46   \n",
              "3        12          683          N      1             1          23   \n",
              "4        17           99          Y      1             1          34   \n",
              "\n",
              "   quantity  line_item_amount  unit_price promo_item_yn  \n",
              "0         1              2.50        2.50             N  \n",
              "1         2              7.00        3.50             N  \n",
              "2         2              5.00        2.50             N  \n",
              "3         2              5.00        2.50             N  \n",
              "4         1              2.45        2.45             N  "
            ],
            "text/html": [
              "\n",
              "  <div id=\"df-b3db318e-82d4-4e17-9ea7-7559c29ac624\">\n",
              "    <div class=\"colab-df-container\">\n",
              "      <div>\n",
              "<style scoped>\n",
              "    .dataframe tbody tr th:only-of-type {\n",
              "        vertical-align: middle;\n",
              "    }\n",
              "\n",
              "    .dataframe tbody tr th {\n",
              "        vertical-align: top;\n",
              "    }\n",
              "\n",
              "    .dataframe thead th {\n",
              "        text-align: right;\n",
              "    }\n",
              "</style>\n",
              "<table border=\"1\" class=\"dataframe\">\n",
              "  <thead>\n",
              "    <tr style=\"text-align: right;\">\n",
              "      <th></th>\n",
              "      <th>transaction_id</th>\n",
              "      <th>transaction_date</th>\n",
              "      <th>transaction_time</th>\n",
              "      <th>sales_outlet_id</th>\n",
              "      <th>staff_id</th>\n",
              "      <th>customer_id</th>\n",
              "      <th>instore_yn</th>\n",
              "      <th>order</th>\n",
              "      <th>line_item_id</th>\n",
              "      <th>product_id</th>\n",
              "      <th>quantity</th>\n",
              "      <th>line_item_amount</th>\n",
              "      <th>unit_price</th>\n",
              "      <th>promo_item_yn</th>\n",
              "    </tr>\n",
              "  </thead>\n",
              "  <tbody>\n",
              "    <tr>\n",
              "      <th>0</th>\n",
              "      <td>7</td>\n",
              "      <td>2019-04-01</td>\n",
              "      <td>12:04:43</td>\n",
              "      <td>3</td>\n",
              "      <td>12</td>\n",
              "      <td>558</td>\n",
              "      <td>N</td>\n",
              "      <td>1</td>\n",
              "      <td>1</td>\n",
              "      <td>52</td>\n",
              "      <td>1</td>\n",
              "      <td>2.50</td>\n",
              "      <td>2.50</td>\n",
              "      <td>N</td>\n",
              "    </tr>\n",
              "    <tr>\n",
              "      <th>1</th>\n",
              "      <td>11</td>\n",
              "      <td>2019-04-01</td>\n",
              "      <td>15:54:39</td>\n",
              "      <td>3</td>\n",
              "      <td>17</td>\n",
              "      <td>781</td>\n",
              "      <td>N</td>\n",
              "      <td>1</td>\n",
              "      <td>1</td>\n",
              "      <td>27</td>\n",
              "      <td>2</td>\n",
              "      <td>7.00</td>\n",
              "      <td>3.50</td>\n",
              "      <td>N</td>\n",
              "    </tr>\n",
              "    <tr>\n",
              "      <th>2</th>\n",
              "      <td>19</td>\n",
              "      <td>2019-04-01</td>\n",
              "      <td>14:34:59</td>\n",
              "      <td>3</td>\n",
              "      <td>17</td>\n",
              "      <td>788</td>\n",
              "      <td>Y</td>\n",
              "      <td>1</td>\n",
              "      <td>1</td>\n",
              "      <td>46</td>\n",
              "      <td>2</td>\n",
              "      <td>5.00</td>\n",
              "      <td>2.50</td>\n",
              "      <td>N</td>\n",
              "    </tr>\n",
              "    <tr>\n",
              "      <th>3</th>\n",
              "      <td>32</td>\n",
              "      <td>2019-04-01</td>\n",
              "      <td>16:06:04</td>\n",
              "      <td>3</td>\n",
              "      <td>12</td>\n",
              "      <td>683</td>\n",
              "      <td>N</td>\n",
              "      <td>1</td>\n",
              "      <td>1</td>\n",
              "      <td>23</td>\n",
              "      <td>2</td>\n",
              "      <td>5.00</td>\n",
              "      <td>2.50</td>\n",
              "      <td>N</td>\n",
              "    </tr>\n",
              "    <tr>\n",
              "      <th>4</th>\n",
              "      <td>33</td>\n",
              "      <td>2019-04-01</td>\n",
              "      <td>19:18:37</td>\n",
              "      <td>3</td>\n",
              "      <td>17</td>\n",
              "      <td>99</td>\n",
              "      <td>Y</td>\n",
              "      <td>1</td>\n",
              "      <td>1</td>\n",
              "      <td>34</td>\n",
              "      <td>1</td>\n",
              "      <td>2.45</td>\n",
              "      <td>2.45</td>\n",
              "      <td>N</td>\n",
              "    </tr>\n",
              "  </tbody>\n",
              "</table>\n",
              "</div>\n",
              "      <button class=\"colab-df-convert\" onclick=\"convertToInteractive('df-b3db318e-82d4-4e17-9ea7-7559c29ac624')\"\n",
              "              title=\"Convert this dataframe to an interactive table.\"\n",
              "              style=\"display:none;\">\n",
              "        \n",
              "  <svg xmlns=\"http://www.w3.org/2000/svg\" height=\"24px\"viewBox=\"0 0 24 24\"\n",
              "       width=\"24px\">\n",
              "    <path d=\"M0 0h24v24H0V0z\" fill=\"none\"/>\n",
              "    <path d=\"M18.56 5.44l.94 2.06.94-2.06 2.06-.94-2.06-.94-.94-2.06-.94 2.06-2.06.94zm-11 1L8.5 8.5l.94-2.06 2.06-.94-2.06-.94L8.5 2.5l-.94 2.06-2.06.94zm10 10l.94 2.06.94-2.06 2.06-.94-2.06-.94-.94-2.06-.94 2.06-2.06.94z\"/><path d=\"M17.41 7.96l-1.37-1.37c-.4-.4-.92-.59-1.43-.59-.52 0-1.04.2-1.43.59L10.3 9.45l-7.72 7.72c-.78.78-.78 2.05 0 2.83L4 21.41c.39.39.9.59 1.41.59.51 0 1.02-.2 1.41-.59l7.78-7.78 2.81-2.81c.8-.78.8-2.07 0-2.86zM5.41 20L4 18.59l7.72-7.72 1.47 1.35L5.41 20z\"/>\n",
              "  </svg>\n",
              "      </button>\n",
              "      \n",
              "  <style>\n",
              "    .colab-df-container {\n",
              "      display:flex;\n",
              "      flex-wrap:wrap;\n",
              "      gap: 12px;\n",
              "    }\n",
              "\n",
              "    .colab-df-convert {\n",
              "      background-color: #E8F0FE;\n",
              "      border: none;\n",
              "      border-radius: 50%;\n",
              "      cursor: pointer;\n",
              "      display: none;\n",
              "      fill: #1967D2;\n",
              "      height: 32px;\n",
              "      padding: 0 0 0 0;\n",
              "      width: 32px;\n",
              "    }\n",
              "\n",
              "    .colab-df-convert:hover {\n",
              "      background-color: #E2EBFA;\n",
              "      box-shadow: 0px 1px 2px rgba(60, 64, 67, 0.3), 0px 1px 3px 1px rgba(60, 64, 67, 0.15);\n",
              "      fill: #174EA6;\n",
              "    }\n",
              "\n",
              "    [theme=dark] .colab-df-convert {\n",
              "      background-color: #3B4455;\n",
              "      fill: #D2E3FC;\n",
              "    }\n",
              "\n",
              "    [theme=dark] .colab-df-convert:hover {\n",
              "      background-color: #434B5C;\n",
              "      box-shadow: 0px 1px 3px 1px rgba(0, 0, 0, 0.15);\n",
              "      filter: drop-shadow(0px 1px 2px rgba(0, 0, 0, 0.3));\n",
              "      fill: #FFFFFF;\n",
              "    }\n",
              "  </style>\n",
              "\n",
              "      <script>\n",
              "        const buttonEl =\n",
              "          document.querySelector('#df-b3db318e-82d4-4e17-9ea7-7559c29ac624 button.colab-df-convert');\n",
              "        buttonEl.style.display =\n",
              "          google.colab.kernel.accessAllowed ? 'block' : 'none';\n",
              "\n",
              "        async function convertToInteractive(key) {\n",
              "          const element = document.querySelector('#df-b3db318e-82d4-4e17-9ea7-7559c29ac624');\n",
              "          const dataTable =\n",
              "            await google.colab.kernel.invokeFunction('convertToInteractive',\n",
              "                                                     [key], {});\n",
              "          if (!dataTable) return;\n",
              "\n",
              "          const docLinkHtml = 'Like what you see? Visit the ' +\n",
              "            '<a target=\"_blank\" href=https://colab.research.google.com/notebooks/data_table.ipynb>data table notebook</a>'\n",
              "            + ' to learn more about interactive tables.';\n",
              "          element.innerHTML = '';\n",
              "          dataTable['output_type'] = 'display_data';\n",
              "          await google.colab.output.renderOutput(dataTable, element);\n",
              "          const docLink = document.createElement('div');\n",
              "          docLink.innerHTML = docLinkHtml;\n",
              "          element.appendChild(docLink);\n",
              "        }\n",
              "      </script>\n",
              "    </div>\n",
              "  </div>\n",
              "  "
            ]
          },
          "metadata": {},
          "execution_count": 59
        }
      ]
    },
    {
      "cell_type": "code",
      "source": [
        "#1.5 Customer Data\n",
        "\n",
        "#Retrieving customer data\n",
        "customer_table = pd.read_sql_query('''SELECT *\n",
        "                                      FROM customer\n",
        "                                      ''', conn)\n",
        "#Checking Data Types and Identify Potential Missing Values\n",
        "print(customer_table.info())\n",
        "print('no missing value')"
      ],
      "metadata": {
        "colab": {
          "base_uri": "https://localhost:8080/"
        },
        "id": "m614GRfK9e9m",
        "outputId": "34d82ab4-d4e5-4fa9-af60-cf38bdbc28af"
      },
      "execution_count": null,
      "outputs": [
        {
          "output_type": "stream",
          "name": "stdout",
          "text": [
            "<class 'pandas.core.frame.DataFrame'>\n",
            "RangeIndex: 2246 entries, 0 to 2245\n",
            "Data columns (total 9 columns):\n",
            " #   Column               Non-Null Count  Dtype \n",
            "---  ------               --------------  ----- \n",
            " 0   customer_id          2246 non-null   int64 \n",
            " 1   home_store           2246 non-null   int64 \n",
            " 2   customer_first-name  2246 non-null   object\n",
            " 3   customer_email       2246 non-null   object\n",
            " 4   customer_since       2246 non-null   object\n",
            " 5   loyalty_card_number  2246 non-null   object\n",
            " 6   birthdate            2246 non-null   object\n",
            " 7   gender               2246 non-null   object\n",
            " 8   birth_year           2246 non-null   int64 \n",
            "dtypes: int64(3), object(6)\n",
            "memory usage: 158.0+ KB\n",
            "None\n",
            "no missing value\n"
          ]
        }
      ]
    },
    {
      "cell_type": "code",
      "source": [
        "customer_table.head(5)"
      ],
      "metadata": {
        "colab": {
          "base_uri": "https://localhost:8080/",
          "height": 206
        },
        "id": "Gh_T0LnowkFu",
        "outputId": "e2a1b595-b6be-4381-ee55-4403092ad2c8"
      },
      "execution_count": null,
      "outputs": [
        {
          "output_type": "execute_result",
          "data": {
            "text/plain": [
              "   customer_id  home_store customer_first-name        customer_email  \\\n",
              "0            1           3           Kelly Key  Venus@adipiscing.edu   \n",
              "1            2           3     Clark Schroeder        Nora@fames.gov   \n",
              "2            3           3      Elvis Cardenas    Brianna@tellus.edu   \n",
              "3            4           3        Rafael Estes           Ina@non.gov   \n",
              "4            5           3          Colin Lynn      Dale@Integer.com   \n",
              "\n",
              "  customer_since loyalty_card_number   birthdate gender  birth_year  \n",
              "0     2017-01-04        908-424-2890  1950-05-29      M        1950  \n",
              "1     2017-01-07        032-732-6308  1950-07-30      M        1950  \n",
              "2     2017-01-10        459-375-9187  1950-09-30      M        1950  \n",
              "3     2017-01-13        576-640-9226  1950-12-01      M        1950  \n",
              "4     2017-01-15        344-674-6569  1951-02-01      M        1951  "
            ],
            "text/html": [
              "\n",
              "  <div id=\"df-3d181cd3-e460-4821-a388-e211fd2821db\">\n",
              "    <div class=\"colab-df-container\">\n",
              "      <div>\n",
              "<style scoped>\n",
              "    .dataframe tbody tr th:only-of-type {\n",
              "        vertical-align: middle;\n",
              "    }\n",
              "\n",
              "    .dataframe tbody tr th {\n",
              "        vertical-align: top;\n",
              "    }\n",
              "\n",
              "    .dataframe thead th {\n",
              "        text-align: right;\n",
              "    }\n",
              "</style>\n",
              "<table border=\"1\" class=\"dataframe\">\n",
              "  <thead>\n",
              "    <tr style=\"text-align: right;\">\n",
              "      <th></th>\n",
              "      <th>customer_id</th>\n",
              "      <th>home_store</th>\n",
              "      <th>customer_first-name</th>\n",
              "      <th>customer_email</th>\n",
              "      <th>customer_since</th>\n",
              "      <th>loyalty_card_number</th>\n",
              "      <th>birthdate</th>\n",
              "      <th>gender</th>\n",
              "      <th>birth_year</th>\n",
              "    </tr>\n",
              "  </thead>\n",
              "  <tbody>\n",
              "    <tr>\n",
              "      <th>0</th>\n",
              "      <td>1</td>\n",
              "      <td>3</td>\n",
              "      <td>Kelly Key</td>\n",
              "      <td>Venus@adipiscing.edu</td>\n",
              "      <td>2017-01-04</td>\n",
              "      <td>908-424-2890</td>\n",
              "      <td>1950-05-29</td>\n",
              "      <td>M</td>\n",
              "      <td>1950</td>\n",
              "    </tr>\n",
              "    <tr>\n",
              "      <th>1</th>\n",
              "      <td>2</td>\n",
              "      <td>3</td>\n",
              "      <td>Clark Schroeder</td>\n",
              "      <td>Nora@fames.gov</td>\n",
              "      <td>2017-01-07</td>\n",
              "      <td>032-732-6308</td>\n",
              "      <td>1950-07-30</td>\n",
              "      <td>M</td>\n",
              "      <td>1950</td>\n",
              "    </tr>\n",
              "    <tr>\n",
              "      <th>2</th>\n",
              "      <td>3</td>\n",
              "      <td>3</td>\n",
              "      <td>Elvis Cardenas</td>\n",
              "      <td>Brianna@tellus.edu</td>\n",
              "      <td>2017-01-10</td>\n",
              "      <td>459-375-9187</td>\n",
              "      <td>1950-09-30</td>\n",
              "      <td>M</td>\n",
              "      <td>1950</td>\n",
              "    </tr>\n",
              "    <tr>\n",
              "      <th>3</th>\n",
              "      <td>4</td>\n",
              "      <td>3</td>\n",
              "      <td>Rafael Estes</td>\n",
              "      <td>Ina@non.gov</td>\n",
              "      <td>2017-01-13</td>\n",
              "      <td>576-640-9226</td>\n",
              "      <td>1950-12-01</td>\n",
              "      <td>M</td>\n",
              "      <td>1950</td>\n",
              "    </tr>\n",
              "    <tr>\n",
              "      <th>4</th>\n",
              "      <td>5</td>\n",
              "      <td>3</td>\n",
              "      <td>Colin Lynn</td>\n",
              "      <td>Dale@Integer.com</td>\n",
              "      <td>2017-01-15</td>\n",
              "      <td>344-674-6569</td>\n",
              "      <td>1951-02-01</td>\n",
              "      <td>M</td>\n",
              "      <td>1951</td>\n",
              "    </tr>\n",
              "  </tbody>\n",
              "</table>\n",
              "</div>\n",
              "      <button class=\"colab-df-convert\" onclick=\"convertToInteractive('df-3d181cd3-e460-4821-a388-e211fd2821db')\"\n",
              "              title=\"Convert this dataframe to an interactive table.\"\n",
              "              style=\"display:none;\">\n",
              "        \n",
              "  <svg xmlns=\"http://www.w3.org/2000/svg\" height=\"24px\"viewBox=\"0 0 24 24\"\n",
              "       width=\"24px\">\n",
              "    <path d=\"M0 0h24v24H0V0z\" fill=\"none\"/>\n",
              "    <path d=\"M18.56 5.44l.94 2.06.94-2.06 2.06-.94-2.06-.94-.94-2.06-.94 2.06-2.06.94zm-11 1L8.5 8.5l.94-2.06 2.06-.94-2.06-.94L8.5 2.5l-.94 2.06-2.06.94zm10 10l.94 2.06.94-2.06 2.06-.94-2.06-.94-.94-2.06-.94 2.06-2.06.94z\"/><path d=\"M17.41 7.96l-1.37-1.37c-.4-.4-.92-.59-1.43-.59-.52 0-1.04.2-1.43.59L10.3 9.45l-7.72 7.72c-.78.78-.78 2.05 0 2.83L4 21.41c.39.39.9.59 1.41.59.51 0 1.02-.2 1.41-.59l7.78-7.78 2.81-2.81c.8-.78.8-2.07 0-2.86zM5.41 20L4 18.59l7.72-7.72 1.47 1.35L5.41 20z\"/>\n",
              "  </svg>\n",
              "      </button>\n",
              "      \n",
              "  <style>\n",
              "    .colab-df-container {\n",
              "      display:flex;\n",
              "      flex-wrap:wrap;\n",
              "      gap: 12px;\n",
              "    }\n",
              "\n",
              "    .colab-df-convert {\n",
              "      background-color: #E8F0FE;\n",
              "      border: none;\n",
              "      border-radius: 50%;\n",
              "      cursor: pointer;\n",
              "      display: none;\n",
              "      fill: #1967D2;\n",
              "      height: 32px;\n",
              "      padding: 0 0 0 0;\n",
              "      width: 32px;\n",
              "    }\n",
              "\n",
              "    .colab-df-convert:hover {\n",
              "      background-color: #E2EBFA;\n",
              "      box-shadow: 0px 1px 2px rgba(60, 64, 67, 0.3), 0px 1px 3px 1px rgba(60, 64, 67, 0.15);\n",
              "      fill: #174EA6;\n",
              "    }\n",
              "\n",
              "    [theme=dark] .colab-df-convert {\n",
              "      background-color: #3B4455;\n",
              "      fill: #D2E3FC;\n",
              "    }\n",
              "\n",
              "    [theme=dark] .colab-df-convert:hover {\n",
              "      background-color: #434B5C;\n",
              "      box-shadow: 0px 1px 3px 1px rgba(0, 0, 0, 0.15);\n",
              "      filter: drop-shadow(0px 1px 2px rgba(0, 0, 0, 0.3));\n",
              "      fill: #FFFFFF;\n",
              "    }\n",
              "  </style>\n",
              "\n",
              "      <script>\n",
              "        const buttonEl =\n",
              "          document.querySelector('#df-3d181cd3-e460-4821-a388-e211fd2821db button.colab-df-convert');\n",
              "        buttonEl.style.display =\n",
              "          google.colab.kernel.accessAllowed ? 'block' : 'none';\n",
              "\n",
              "        async function convertToInteractive(key) {\n",
              "          const element = document.querySelector('#df-3d181cd3-e460-4821-a388-e211fd2821db');\n",
              "          const dataTable =\n",
              "            await google.colab.kernel.invokeFunction('convertToInteractive',\n",
              "                                                     [key], {});\n",
              "          if (!dataTable) return;\n",
              "\n",
              "          const docLinkHtml = 'Like what you see? Visit the ' +\n",
              "            '<a target=\"_blank\" href=https://colab.research.google.com/notebooks/data_table.ipynb>data table notebook</a>'\n",
              "            + ' to learn more about interactive tables.';\n",
              "          element.innerHTML = '';\n",
              "          dataTable['output_type'] = 'display_data';\n",
              "          await google.colab.output.renderOutput(dataTable, element);\n",
              "          const docLink = document.createElement('div');\n",
              "          docLink.innerHTML = docLinkHtml;\n",
              "          element.appendChild(docLink);\n",
              "        }\n",
              "      </script>\n",
              "    </div>\n",
              "  </div>\n",
              "  "
            ]
          },
          "metadata": {},
          "execution_count": 61
        }
      ]
    },
    {
      "cell_type": "code",
      "source": [
        "#1.6 Generation Data\n",
        "\n",
        "#Retrieving customer data\n",
        "generations_table = pd.read_sql_query('''SELECT *\n",
        "                                      FROM generations\n",
        "                                      ''', conn)\n",
        "generations_table.head(5)"
      ],
      "metadata": {
        "colab": {
          "base_uri": "https://localhost:8080/",
          "height": 206
        },
        "id": "quHwZeliuZjZ",
        "outputId": "b095e915-93a7-4ae0-9b01-56332cda69eb"
      },
      "execution_count": null,
      "outputs": [
        {
          "output_type": "execute_result",
          "data": {
            "text/plain": [
              "   birth_year    generation\n",
              "0        1946  Baby Boomers\n",
              "1        1947  Baby Boomers\n",
              "2        1948  Baby Boomers\n",
              "3        1949  Baby Boomers\n",
              "4        1950  Baby Boomers"
            ],
            "text/html": [
              "\n",
              "  <div id=\"df-10ba7f42-6e99-4f01-ab00-816cbada294e\">\n",
              "    <div class=\"colab-df-container\">\n",
              "      <div>\n",
              "<style scoped>\n",
              "    .dataframe tbody tr th:only-of-type {\n",
              "        vertical-align: middle;\n",
              "    }\n",
              "\n",
              "    .dataframe tbody tr th {\n",
              "        vertical-align: top;\n",
              "    }\n",
              "\n",
              "    .dataframe thead th {\n",
              "        text-align: right;\n",
              "    }\n",
              "</style>\n",
              "<table border=\"1\" class=\"dataframe\">\n",
              "  <thead>\n",
              "    <tr style=\"text-align: right;\">\n",
              "      <th></th>\n",
              "      <th>birth_year</th>\n",
              "      <th>generation</th>\n",
              "    </tr>\n",
              "  </thead>\n",
              "  <tbody>\n",
              "    <tr>\n",
              "      <th>0</th>\n",
              "      <td>1946</td>\n",
              "      <td>Baby Boomers</td>\n",
              "    </tr>\n",
              "    <tr>\n",
              "      <th>1</th>\n",
              "      <td>1947</td>\n",
              "      <td>Baby Boomers</td>\n",
              "    </tr>\n",
              "    <tr>\n",
              "      <th>2</th>\n",
              "      <td>1948</td>\n",
              "      <td>Baby Boomers</td>\n",
              "    </tr>\n",
              "    <tr>\n",
              "      <th>3</th>\n",
              "      <td>1949</td>\n",
              "      <td>Baby Boomers</td>\n",
              "    </tr>\n",
              "    <tr>\n",
              "      <th>4</th>\n",
              "      <td>1950</td>\n",
              "      <td>Baby Boomers</td>\n",
              "    </tr>\n",
              "  </tbody>\n",
              "</table>\n",
              "</div>\n",
              "      <button class=\"colab-df-convert\" onclick=\"convertToInteractive('df-10ba7f42-6e99-4f01-ab00-816cbada294e')\"\n",
              "              title=\"Convert this dataframe to an interactive table.\"\n",
              "              style=\"display:none;\">\n",
              "        \n",
              "  <svg xmlns=\"http://www.w3.org/2000/svg\" height=\"24px\"viewBox=\"0 0 24 24\"\n",
              "       width=\"24px\">\n",
              "    <path d=\"M0 0h24v24H0V0z\" fill=\"none\"/>\n",
              "    <path d=\"M18.56 5.44l.94 2.06.94-2.06 2.06-.94-2.06-.94-.94-2.06-.94 2.06-2.06.94zm-11 1L8.5 8.5l.94-2.06 2.06-.94-2.06-.94L8.5 2.5l-.94 2.06-2.06.94zm10 10l.94 2.06.94-2.06 2.06-.94-2.06-.94-.94-2.06-.94 2.06-2.06.94z\"/><path d=\"M17.41 7.96l-1.37-1.37c-.4-.4-.92-.59-1.43-.59-.52 0-1.04.2-1.43.59L10.3 9.45l-7.72 7.72c-.78.78-.78 2.05 0 2.83L4 21.41c.39.39.9.59 1.41.59.51 0 1.02-.2 1.41-.59l7.78-7.78 2.81-2.81c.8-.78.8-2.07 0-2.86zM5.41 20L4 18.59l7.72-7.72 1.47 1.35L5.41 20z\"/>\n",
              "  </svg>\n",
              "      </button>\n",
              "      \n",
              "  <style>\n",
              "    .colab-df-container {\n",
              "      display:flex;\n",
              "      flex-wrap:wrap;\n",
              "      gap: 12px;\n",
              "    }\n",
              "\n",
              "    .colab-df-convert {\n",
              "      background-color: #E8F0FE;\n",
              "      border: none;\n",
              "      border-radius: 50%;\n",
              "      cursor: pointer;\n",
              "      display: none;\n",
              "      fill: #1967D2;\n",
              "      height: 32px;\n",
              "      padding: 0 0 0 0;\n",
              "      width: 32px;\n",
              "    }\n",
              "\n",
              "    .colab-df-convert:hover {\n",
              "      background-color: #E2EBFA;\n",
              "      box-shadow: 0px 1px 2px rgba(60, 64, 67, 0.3), 0px 1px 3px 1px rgba(60, 64, 67, 0.15);\n",
              "      fill: #174EA6;\n",
              "    }\n",
              "\n",
              "    [theme=dark] .colab-df-convert {\n",
              "      background-color: #3B4455;\n",
              "      fill: #D2E3FC;\n",
              "    }\n",
              "\n",
              "    [theme=dark] .colab-df-convert:hover {\n",
              "      background-color: #434B5C;\n",
              "      box-shadow: 0px 1px 3px 1px rgba(0, 0, 0, 0.15);\n",
              "      filter: drop-shadow(0px 1px 2px rgba(0, 0, 0, 0.3));\n",
              "      fill: #FFFFFF;\n",
              "    }\n",
              "  </style>\n",
              "\n",
              "      <script>\n",
              "        const buttonEl =\n",
              "          document.querySelector('#df-10ba7f42-6e99-4f01-ab00-816cbada294e button.colab-df-convert');\n",
              "        buttonEl.style.display =\n",
              "          google.colab.kernel.accessAllowed ? 'block' : 'none';\n",
              "\n",
              "        async function convertToInteractive(key) {\n",
              "          const element = document.querySelector('#df-10ba7f42-6e99-4f01-ab00-816cbada294e');\n",
              "          const dataTable =\n",
              "            await google.colab.kernel.invokeFunction('convertToInteractive',\n",
              "                                                     [key], {});\n",
              "          if (!dataTable) return;\n",
              "\n",
              "          const docLinkHtml = 'Like what you see? Visit the ' +\n",
              "            '<a target=\"_blank\" href=https://colab.research.google.com/notebooks/data_table.ipynb>data table notebook</a>'\n",
              "            + ' to learn more about interactive tables.';\n",
              "          element.innerHTML = '';\n",
              "          dataTable['output_type'] = 'display_data';\n",
              "          await google.colab.output.renderOutput(dataTable, element);\n",
              "          const docLink = document.createElement('div');\n",
              "          docLink.innerHTML = docLinkHtml;\n",
              "          element.appendChild(docLink);\n",
              "        }\n",
              "      </script>\n",
              "    </div>\n",
              "  </div>\n",
              "  "
            ]
          },
          "metadata": {},
          "execution_count": 62
        }
      ]
    },
    {
      "cell_type": "markdown",
      "source": [
        "generation data highly depend on customer data, specially birth_year, so it can be combined"
      ],
      "metadata": {
        "id": "lhYdYwoYsPum"
      }
    },
    {
      "cell_type": "code",
      "source": [
        "#Combine Customer data and Generation data\n",
        "customergenerations_table = pd.read_sql_query('''\n",
        "                  SELECT\n",
        "                      customer.*,\n",
        "                      generations.generation\n",
        "                      FROM customer\n",
        "                  LEFT JOIN generations ON customer.birth_year = generations.birth_year\n",
        "                  ''', conn)\n",
        "customergenerations_table['birthdate'] = pd.to_datetime(customergenerations_table['birthdate'])\n",
        "#Checking Data Types and Seeing Potential Missing Values\n",
        "print(customergenerations_table.info())"
      ],
      "metadata": {
        "colab": {
          "base_uri": "https://localhost:8080/"
        },
        "id": "mhKmkIq_ucMy",
        "outputId": "146250c3-4e44-4d0e-aab2-067ad743ba1e"
      },
      "execution_count": null,
      "outputs": [
        {
          "output_type": "stream",
          "name": "stdout",
          "text": [
            "<class 'pandas.core.frame.DataFrame'>\n",
            "RangeIndex: 2246 entries, 0 to 2245\n",
            "Data columns (total 10 columns):\n",
            " #   Column               Non-Null Count  Dtype         \n",
            "---  ------               --------------  -----         \n",
            " 0   customer_id          2246 non-null   int64         \n",
            " 1   home_store           2246 non-null   int64         \n",
            " 2   customer_first-name  2246 non-null   object        \n",
            " 3   customer_email       2246 non-null   object        \n",
            " 4   customer_since       2246 non-null   object        \n",
            " 5   loyalty_card_number  2246 non-null   object        \n",
            " 6   birthdate            2246 non-null   datetime64[ns]\n",
            " 7   gender               2246 non-null   object        \n",
            " 8   birth_year           2246 non-null   int64         \n",
            " 9   generation           2246 non-null   object        \n",
            "dtypes: datetime64[ns](1), int64(3), object(6)\n",
            "memory usage: 175.6+ KB\n",
            "None\n"
          ]
        }
      ]
    },
    {
      "cell_type": "code",
      "source": [
        "#Ensure there is no duplication of data\n",
        "print(customergenerations_table[customergenerations_table.duplicated(keep=False)])\n",
        "print('no duplication')"
      ],
      "metadata": {
        "colab": {
          "base_uri": "https://localhost:8080/"
        },
        "id": "h0h5aygA07wP",
        "outputId": "ed52b424-9cc1-4b01-a40f-7fe97767a179"
      },
      "execution_count": null,
      "outputs": [
        {
          "output_type": "stream",
          "name": "stdout",
          "text": [
            "Empty DataFrame\n",
            "Columns: [customer_id, home_store, customer_first-name, customer_email, customer_since, loyalty_card_number, birthdate, gender, birth_year, generation]\n",
            "Index: []\n",
            "no duplication\n"
          ]
        }
      ]
    },
    {
      "cell_type": "code",
      "source": [
        "customergenerations_table.head(5)"
      ],
      "metadata": {
        "colab": {
          "base_uri": "https://localhost:8080/",
          "height": 206
        },
        "id": "K02G3VP51DkS",
        "outputId": "49ae0b7b-dc77-49d6-f27c-9acb449025eb"
      },
      "execution_count": null,
      "outputs": [
        {
          "output_type": "execute_result",
          "data": {
            "text/plain": [
              "   customer_id  home_store customer_first-name        customer_email  \\\n",
              "0            1           3           Kelly Key  Venus@adipiscing.edu   \n",
              "1            2           3     Clark Schroeder        Nora@fames.gov   \n",
              "2            3           3      Elvis Cardenas    Brianna@tellus.edu   \n",
              "3            4           3        Rafael Estes           Ina@non.gov   \n",
              "4            5           3          Colin Lynn      Dale@Integer.com   \n",
              "\n",
              "  customer_since loyalty_card_number  birthdate gender  birth_year  \\\n",
              "0     2017-01-04        908-424-2890 1950-05-29      M        1950   \n",
              "1     2017-01-07        032-732-6308 1950-07-30      M        1950   \n",
              "2     2017-01-10        459-375-9187 1950-09-30      M        1950   \n",
              "3     2017-01-13        576-640-9226 1950-12-01      M        1950   \n",
              "4     2017-01-15        344-674-6569 1951-02-01      M        1951   \n",
              "\n",
              "     generation  \n",
              "0  Baby Boomers  \n",
              "1  Baby Boomers  \n",
              "2  Baby Boomers  \n",
              "3  Baby Boomers  \n",
              "4  Baby Boomers  "
            ],
            "text/html": [
              "\n",
              "  <div id=\"df-5122543b-e993-4787-85b5-156cffbb4b88\">\n",
              "    <div class=\"colab-df-container\">\n",
              "      <div>\n",
              "<style scoped>\n",
              "    .dataframe tbody tr th:only-of-type {\n",
              "        vertical-align: middle;\n",
              "    }\n",
              "\n",
              "    .dataframe tbody tr th {\n",
              "        vertical-align: top;\n",
              "    }\n",
              "\n",
              "    .dataframe thead th {\n",
              "        text-align: right;\n",
              "    }\n",
              "</style>\n",
              "<table border=\"1\" class=\"dataframe\">\n",
              "  <thead>\n",
              "    <tr style=\"text-align: right;\">\n",
              "      <th></th>\n",
              "      <th>customer_id</th>\n",
              "      <th>home_store</th>\n",
              "      <th>customer_first-name</th>\n",
              "      <th>customer_email</th>\n",
              "      <th>customer_since</th>\n",
              "      <th>loyalty_card_number</th>\n",
              "      <th>birthdate</th>\n",
              "      <th>gender</th>\n",
              "      <th>birth_year</th>\n",
              "      <th>generation</th>\n",
              "    </tr>\n",
              "  </thead>\n",
              "  <tbody>\n",
              "    <tr>\n",
              "      <th>0</th>\n",
              "      <td>1</td>\n",
              "      <td>3</td>\n",
              "      <td>Kelly Key</td>\n",
              "      <td>Venus@adipiscing.edu</td>\n",
              "      <td>2017-01-04</td>\n",
              "      <td>908-424-2890</td>\n",
              "      <td>1950-05-29</td>\n",
              "      <td>M</td>\n",
              "      <td>1950</td>\n",
              "      <td>Baby Boomers</td>\n",
              "    </tr>\n",
              "    <tr>\n",
              "      <th>1</th>\n",
              "      <td>2</td>\n",
              "      <td>3</td>\n",
              "      <td>Clark Schroeder</td>\n",
              "      <td>Nora@fames.gov</td>\n",
              "      <td>2017-01-07</td>\n",
              "      <td>032-732-6308</td>\n",
              "      <td>1950-07-30</td>\n",
              "      <td>M</td>\n",
              "      <td>1950</td>\n",
              "      <td>Baby Boomers</td>\n",
              "    </tr>\n",
              "    <tr>\n",
              "      <th>2</th>\n",
              "      <td>3</td>\n",
              "      <td>3</td>\n",
              "      <td>Elvis Cardenas</td>\n",
              "      <td>Brianna@tellus.edu</td>\n",
              "      <td>2017-01-10</td>\n",
              "      <td>459-375-9187</td>\n",
              "      <td>1950-09-30</td>\n",
              "      <td>M</td>\n",
              "      <td>1950</td>\n",
              "      <td>Baby Boomers</td>\n",
              "    </tr>\n",
              "    <tr>\n",
              "      <th>3</th>\n",
              "      <td>4</td>\n",
              "      <td>3</td>\n",
              "      <td>Rafael Estes</td>\n",
              "      <td>Ina@non.gov</td>\n",
              "      <td>2017-01-13</td>\n",
              "      <td>576-640-9226</td>\n",
              "      <td>1950-12-01</td>\n",
              "      <td>M</td>\n",
              "      <td>1950</td>\n",
              "      <td>Baby Boomers</td>\n",
              "    </tr>\n",
              "    <tr>\n",
              "      <th>4</th>\n",
              "      <td>5</td>\n",
              "      <td>3</td>\n",
              "      <td>Colin Lynn</td>\n",
              "      <td>Dale@Integer.com</td>\n",
              "      <td>2017-01-15</td>\n",
              "      <td>344-674-6569</td>\n",
              "      <td>1951-02-01</td>\n",
              "      <td>M</td>\n",
              "      <td>1951</td>\n",
              "      <td>Baby Boomers</td>\n",
              "    </tr>\n",
              "  </tbody>\n",
              "</table>\n",
              "</div>\n",
              "      <button class=\"colab-df-convert\" onclick=\"convertToInteractive('df-5122543b-e993-4787-85b5-156cffbb4b88')\"\n",
              "              title=\"Convert this dataframe to an interactive table.\"\n",
              "              style=\"display:none;\">\n",
              "        \n",
              "  <svg xmlns=\"http://www.w3.org/2000/svg\" height=\"24px\"viewBox=\"0 0 24 24\"\n",
              "       width=\"24px\">\n",
              "    <path d=\"M0 0h24v24H0V0z\" fill=\"none\"/>\n",
              "    <path d=\"M18.56 5.44l.94 2.06.94-2.06 2.06-.94-2.06-.94-.94-2.06-.94 2.06-2.06.94zm-11 1L8.5 8.5l.94-2.06 2.06-.94-2.06-.94L8.5 2.5l-.94 2.06-2.06.94zm10 10l.94 2.06.94-2.06 2.06-.94-2.06-.94-.94-2.06-.94 2.06-2.06.94z\"/><path d=\"M17.41 7.96l-1.37-1.37c-.4-.4-.92-.59-1.43-.59-.52 0-1.04.2-1.43.59L10.3 9.45l-7.72 7.72c-.78.78-.78 2.05 0 2.83L4 21.41c.39.39.9.59 1.41.59.51 0 1.02-.2 1.41-.59l7.78-7.78 2.81-2.81c.8-.78.8-2.07 0-2.86zM5.41 20L4 18.59l7.72-7.72 1.47 1.35L5.41 20z\"/>\n",
              "  </svg>\n",
              "      </button>\n",
              "      \n",
              "  <style>\n",
              "    .colab-df-container {\n",
              "      display:flex;\n",
              "      flex-wrap:wrap;\n",
              "      gap: 12px;\n",
              "    }\n",
              "\n",
              "    .colab-df-convert {\n",
              "      background-color: #E8F0FE;\n",
              "      border: none;\n",
              "      border-radius: 50%;\n",
              "      cursor: pointer;\n",
              "      display: none;\n",
              "      fill: #1967D2;\n",
              "      height: 32px;\n",
              "      padding: 0 0 0 0;\n",
              "      width: 32px;\n",
              "    }\n",
              "\n",
              "    .colab-df-convert:hover {\n",
              "      background-color: #E2EBFA;\n",
              "      box-shadow: 0px 1px 2px rgba(60, 64, 67, 0.3), 0px 1px 3px 1px rgba(60, 64, 67, 0.15);\n",
              "      fill: #174EA6;\n",
              "    }\n",
              "\n",
              "    [theme=dark] .colab-df-convert {\n",
              "      background-color: #3B4455;\n",
              "      fill: #D2E3FC;\n",
              "    }\n",
              "\n",
              "    [theme=dark] .colab-df-convert:hover {\n",
              "      background-color: #434B5C;\n",
              "      box-shadow: 0px 1px 3px 1px rgba(0, 0, 0, 0.15);\n",
              "      filter: drop-shadow(0px 1px 2px rgba(0, 0, 0, 0.3));\n",
              "      fill: #FFFFFF;\n",
              "    }\n",
              "  </style>\n",
              "\n",
              "      <script>\n",
              "        const buttonEl =\n",
              "          document.querySelector('#df-5122543b-e993-4787-85b5-156cffbb4b88 button.colab-df-convert');\n",
              "        buttonEl.style.display =\n",
              "          google.colab.kernel.accessAllowed ? 'block' : 'none';\n",
              "\n",
              "        async function convertToInteractive(key) {\n",
              "          const element = document.querySelector('#df-5122543b-e993-4787-85b5-156cffbb4b88');\n",
              "          const dataTable =\n",
              "            await google.colab.kernel.invokeFunction('convertToInteractive',\n",
              "                                                     [key], {});\n",
              "          if (!dataTable) return;\n",
              "\n",
              "          const docLinkHtml = 'Like what you see? Visit the ' +\n",
              "            '<a target=\"_blank\" href=https://colab.research.google.com/notebooks/data_table.ipynb>data table notebook</a>'\n",
              "            + ' to learn more about interactive tables.';\n",
              "          element.innerHTML = '';\n",
              "          dataTable['output_type'] = 'display_data';\n",
              "          await google.colab.output.renderOutput(dataTable, element);\n",
              "          const docLink = document.createElement('div');\n",
              "          docLink.innerHTML = docLinkHtml;\n",
              "          element.appendChild(docLink);\n",
              "        }\n",
              "      </script>\n",
              "    </div>\n",
              "  </div>\n",
              "  "
            ]
          },
          "metadata": {},
          "execution_count": 65
        }
      ]
    },
    {
      "cell_type": "code",
      "source": [
        "# 2 DESCRIPTIVE STATISTICS"
      ],
      "metadata": {
        "id": "3kxjlGDpstoy"
      },
      "execution_count": null,
      "outputs": []
    },
    {
      "cell_type": "markdown",
      "source": [
        "data were analyzed through descriptive statistical methods and inferential statistics. the goal is to extract key information from the data and find out the general form of the data to be analyzed"
      ],
      "metadata": {
        "id": "AAEqNBtcsoNz"
      }
    },
    {
      "cell_type": "code",
      "source": [
        "# 2.1 Customer Age\n",
        "customergenerations_table ['age'] = 2019 - customergenerations_table ['birth_year']\n",
        "mean_age= customergenerations_table ['age'].mean()\n",
        "median_age = customergenerations_table ['age'].median()\n",
        "print ('customer age average is ', str(mean_age))\n",
        "print ('Customer age median is ', str(median_age))\n",
        "\n",
        "# Age year variancy of customers in each outlets\n",
        "print ('Age variancy of customers in each outlets')\n",
        "plt.figure(figsize=(10,7))\n",
        "sns.boxplot(x = 'home_store', y = 'age', data = customergenerations_table)"
      ],
      "metadata": {
        "id": "VntUK2gwv7nI",
        "colab": {
          "base_uri": "https://localhost:8080/",
          "height": 688
        },
        "outputId": "4a157ada-b440-40e8-d737-770092d5d277"
      },
      "execution_count": null,
      "outputs": [
        {
          "output_type": "stream",
          "name": "stdout",
          "text": [
            "customer age average is  40.61442564559216\n",
            "Customer age median is  38.0\n",
            "Age variancy of customers in each outlets\n"
          ]
        },
        {
          "output_type": "execute_result",
          "data": {
            "text/plain": [
              "<Axes: xlabel='home_store', ylabel='age'>"
            ]
          },
          "metadata": {},
          "execution_count": 67
        },
        {
          "output_type": "display_data",
          "data": {
            "text/plain": [
              "<Figure size 1000x700 with 1 Axes>"
            ],
            "image/png": "[encoded data removed]"
          },
          "metadata": {}
        }
      ]
    },
    {
      "cell_type": "code",
      "source": [
        "#2.2 Transaction Per Day\n",
        "trs_day = salesreciepts_table.groupby('transaction_date')['transaction_id'].count()\n",
        "print ('2.1.2 transaction per day data')\n",
        "print (trs_day.describe())\n",
        "plt.figure(figsize=(25,7))\n",
        "sns.lineplot(x=\"transaction_date\", y=\"transaction_id\", data=salesreciepts_table)"
      ],
      "metadata": {
        "colab": {
          "base_uri": "https://localhost:8080/",
          "height": 649
        },
        "id": "jA5C4mImufIu",
        "outputId": "3a001e89-c644-4047-dd01-b765984d845d"
      },
      "execution_count": null,
      "outputs": [
        {
          "output_type": "stream",
          "name": "stdout",
          "text": [
            "2.1.2 transaction per day data\n",
            "count      29.000000\n",
            "mean     1720.482759\n",
            "std       116.008504\n",
            "min      1465.000000\n",
            "25%      1665.000000\n",
            "50%      1707.000000\n",
            "75%      1815.000000\n",
            "max      1907.000000\n",
            "Name: transaction_id, dtype: float64\n"
          ]
        },
        {
          "output_type": "execute_result",
          "data": {
            "text/plain": [
              "<Axes: xlabel='transaction_date', ylabel='transaction_id'>"
            ]
          },
          "metadata": {},
          "execution_count": 68
        },
        {
          "output_type": "display_data",
          "data": {
            "text/plain": [
              "<Figure size 2500x700 with 1 Axes>"
            ],
            "image/png": "[encoded data removed]"
          },
          "metadata": {}
        }
      ]
    },
    {
      "cell_type": "code",
      "source": [
        "# 2.3 %Waste\n",
        "print ('%Waste Data')\n",
        "print (pastryinventory_table['% waste'].describe())"
      ],
      "metadata": {
        "colab": {
          "base_uri": "https://localhost:8080/"
        },
        "id": "uy5zBujOxodj",
        "outputId": "f438bf88-abdb-45f6-9934-ac588d7c48f7"
      },
      "execution_count": null,
      "outputs": [
        {
          "output_type": "stream",
          "name": "stdout",
          "text": [
            "%Waste Data\n",
            "count    307.000000\n",
            "mean       0.581075\n",
            "std        0.208594\n",
            "min        0.000000\n",
            "25%        0.440000\n",
            "50%        0.580000\n",
            "75%        0.720000\n",
            "max        0.960000\n",
            "Name: % waste, dtype: float64\n"
          ]
        }
      ]
    },
    {
      "cell_type": "markdown",
      "source": [
        "in the given period (april 2019), persentage of waste products was almost 60% high"
      ],
      "metadata": {
        "id": "deyMHskexjCz"
      }
    },
    {
      "cell_type": "code",
      "source": [
        "# Daily stock vs quantity sold\n",
        "data_group_inventory=pastryinventory_table.groupby('transaction_date')[['start_of_day', 'quantity_sold']].sum()\n",
        "plt.figure(figsize=(15,8))\n",
        "ax=sns.lineplot(data=data_group_inventory)\n",
        "print ('stock vs sold')\n",
        "plt.show()"
      ],
      "metadata": {
        "colab": {
          "base_uri": "https://localhost:8080/",
          "height": 713
        },
        "id": "DROb4BEEyebP",
        "outputId": "49e49f21-4ec9-41b7-d8b5-9b0e63a3eae7"
      },
      "execution_count": null,
      "outputs": [
        {
          "output_type": "stream",
          "name": "stdout",
          "text": [
            "stock vs sold\n"
          ]
        },
        {
          "output_type": "display_data",
          "data": {
            "text/plain": [
              "<Figure size 1500x800 with 1 Axes>"
            ],
            "image/png": "[encoded data removed]"
          },
          "metadata": {}
        }
      ]
    },
    {
      "cell_type": "markdown",
      "source": [
        "unsold product was always high except on april 15th"
      ],
      "metadata": {
        "id": "jrKjJnGBxV0G"
      }
    },
    {
      "cell_type": "markdown",
      "source": [],
      "metadata": {
        "id": "L6Fik2Ohtve5"
      }
    },
    {
      "cell_type": "code",
      "source": [
        "# 3 PROBLEM DISCOVERY"
      ],
      "metadata": {
        "id": "xIHBuYB1r29g"
      },
      "execution_count": null,
      "outputs": []
    },
    {
      "cell_type": "markdown",
      "source": [
        "In this section, testing will be carried out on a list of questions that are directed to the objectives of the research"
      ],
      "metadata": {
        "id": "Wqc_rI9w3xRY"
      }
    },
    {
      "cell_type": "code",
      "source": [
        "# 3.1 What is the relationship between consumer generation and product selection"
      ],
      "metadata": {
        "id": "-z-skfN4q0qo"
      },
      "execution_count": null,
      "outputs": []
    },
    {
      "cell_type": "code",
      "source": [
        "product_category = pd.merge(salesreciepts_table, product_table, how='left', on='product_id')\n",
        "agexproduct = pd.merge(product_category, customergenerations_table, how='left', on='customer_id')\n",
        "generation_group=pd.crosstab(agexproduct['generation'],agexproduct['product_group'],agexproduct['transaction_id'],aggfunc='count')\n",
        "generation_group.plot(kind = 'bar',figsize = (15,10), stacked = True)"
      ],
      "metadata": {
        "colab": {
          "base_uri": "https://localhost:8080/",
          "height": 986
        },
        "id": "EUQSa6f9S3QR",
        "outputId": "c3ee97c6-3cc2-4f4e-f2b1-5698387b5e18"
      },
      "execution_count": null,
      "outputs": [
        {
          "output_type": "execute_result",
          "data": {
            "text/plain": [
              "<Axes: xlabel='generation'>"
            ]
          },
          "metadata": {},
          "execution_count": 77
        },
        {
          "output_type": "display_data",
          "data": {
            "text/plain": [
              "<Figure size 1500x1000 with 1 Axes>"
            ],
            "image/png": "[encoded data removed]"
          },
          "metadata": {}
        }
      ]
    },
    {
      "cell_type": "markdown",
      "source": [
        "It can be seen that the product groups that are popular in each generation are relatively the same, so it can be concluded that there is no significant influence from generation to product selection"
      ],
      "metadata": {
        "id": "8aipUFJdusAJ"
      }
    },
    {
      "cell_type": "code",
      "source": [
        "# 3.2 What is the relationship between consumer age/generation and purchase frequency?"
      ],
      "metadata": {
        "id": "0txwW8U_q0j_"
      },
      "execution_count": null,
      "outputs": []
    },
    {
      "cell_type": "code",
      "source": [
        "agextrans = pd.read_sql_query('''\n",
        "                  SELECT\n",
        "                      2019 - customer.birth_year AS age,\n",
        "                      COUNT ('sales reciepts.transaction_id') AS total_transaction\n",
        "                      FROM customer\n",
        "                  LEFT JOIN 'sales reciepts' ON 'customer.customer_id' = 'sales reciepts.customer_id'\n",
        "                  GROUP BY customer.birth_year\n",
        "                  ORDER BY age\n",
        "                  ''', conn)\n",
        "print ('correlation analysis between age and total_transaction')\n",
        "print(agextrans.corr())\n",
        "sns.scatterplot(x='age',\n",
        "                y='total_transaction',\n",
        "                data = agextrans)\n",
        "plt.show()"
      ],
      "metadata": {
        "colab": {
          "base_uri": "https://localhost:8080/",
          "height": 518
        },
        "id": "xnNIrYzrpYUY",
        "outputId": "88dabff6-b985-4677-afa3-1aec325617c4"
      },
      "execution_count": null,
      "outputs": [
        {
          "output_type": "stream",
          "name": "stdout",
          "text": [
            "correlation analysis between age and total_transaction\n",
            "                       age  total_transaction\n",
            "age                1.00000           -0.70691\n",
            "total_transaction -0.70691            1.00000\n"
          ]
        },
        {
          "output_type": "display_data",
          "data": {
            "text/plain": [
              "<Figure size 640x480 with 1 Axes>"
            ],
            "image/png": "[encoded data removed]"
          },
          "metadata": {}
        }
      ]
    },
    {
      "cell_type": "markdown",
      "source": [
        "there is a correlation level of -0.7 (medium negative correlation) between age and the number of transactions. This means that there is a tendency that the older the age, the fewer transactions are made. So it can be concluded that customers with a young age make more transactions."
      ],
      "metadata": {
        "id": "3AuPnzNpvJCQ"
      }
    },
    {
      "cell_type": "code",
      "source": [
        "# 3.3 Is there any correlation between total loyalty cards and transaction frequency?"
      ],
      "metadata": {
        "id": "PtOMojPLq0bC"
      },
      "execution_count": null,
      "outputs": []
    },
    {
      "cell_type": "code",
      "source": [
        "print('total customer : ', customer_table ['customer_id'].count())\n",
        "print('total customer with loyalty card: ', customer_table ['loyalty_card_number'].count())"
      ],
      "metadata": {
        "colab": {
          "base_uri": "https://localhost:8080/"
        },
        "id": "h5qKsLi-3RQM",
        "outputId": "f346e162-f8ca-4e87-d0b2-f22ca5270e4a"
      },
      "execution_count": null,
      "outputs": [
        {
          "output_type": "stream",
          "name": "stdout",
          "text": [
            "total customer :  2246\n",
            "total customer with loyalty card:  2246\n"
          ]
        }
      ]
    },
    {
      "cell_type": "code",
      "source": [],
      "metadata": {
        "id": "0FFQqwFWwDxc"
      },
      "execution_count": null,
      "outputs": []
    },
    {
      "cell_type": "markdown",
      "source": [
        "each customer that made transaction in the given period had loyalty card, there was no new customer"
      ],
      "metadata": {
        "id": "7IWromlEv54P"
      }
    },
    {
      "cell_type": "code",
      "source": [
        "# 3.4 Are there differences in the proportion of waste contribution in certain product groups or outlet groups?"
      ],
      "metadata": {
        "id": "Dsvx8x7xrvIn"
      },
      "execution_count": null,
      "outputs": []
    },
    {
      "cell_type": "code",
      "source": [
        "# % Waste per Product\n",
        "print ('% Waste per Product')\n",
        "waste_product = pastryinventory_table.groupby('product_id')['% waste'].describe()\n",
        "print (waste_product)\n",
        "plt.figure(figsize=(15,8))\n",
        "sns.boxplot(x = 'product_id', y = '% waste', data = pastryinventory_table)"
      ],
      "metadata": {
        "colab": {
          "base_uri": "https://localhost:8080/",
          "height": 853
        },
        "id": "vLWGg1Xxzw48",
        "outputId": "74fa546f-3bf7-4aad-ebe1-481cdeac6037"
      },
      "execution_count": null,
      "outputs": [
        {
          "output_type": "stream",
          "name": "stdout",
          "text": [
            "% Waste per Product\n",
            "            count      mean       std   min   25%   50%   75%   max\n",
            "product_id                                                         \n",
            "69           63.0  0.516032  0.207003  0.00  0.39  0.56  0.67  0.94\n",
            "70           61.0  0.542787  0.191669  0.06  0.44  0.56  0.72  0.83\n",
            "71           61.0  0.527541  0.201929  0.06  0.39  0.56  0.67  0.89\n",
            "72           62.0  0.762258  0.143726  0.50  0.63  0.79  0.90  0.96\n",
            "73           60.0  0.555500  0.190525  0.00  0.50  0.56  0.67  0.94\n"
          ]
        },
        {
          "output_type": "execute_result",
          "data": {
            "text/plain": [
              "<Axes: xlabel='product_id', ylabel='% waste'>"
            ]
          },
          "metadata": {},
          "execution_count": 68
        },
        {
          "output_type": "display_data",
          "data": {
            "text/plain": [
              "<Figure size 1500x800 with 1 Axes>"
            ],
            "image/png": "[encoded data removed]"
          },
          "metadata": {}
        }
      ]
    },
    {
      "cell_type": "markdown",
      "source": [
        "product 72 had the highest persentage of daily waste. But overall, waste proportion is extreamely high on each product type"
      ],
      "metadata": {
        "id": "DMi07i97wFnM"
      }
    },
    {
      "cell_type": "code",
      "source": [
        "# % Waste per Outlet\n",
        "print ('% Waste per Outlet')\n",
        "waste_product = pastryinventory_table.groupby('sales_outlet_id')['% waste'].describe()\n",
        "print (waste_product)\n",
        "plt.figure(figsize=(15,8))\n",
        "sns.boxplot(x = 'sales_outlet_id', y = '% waste', data = pastryinventory_table)"
      ],
      "metadata": {
        "id": "-_-0Lg4K2t-S",
        "colab": {
          "base_uri": "https://localhost:8080/",
          "height": 818
        },
        "outputId": "729ce969-63aa-452c-e1fc-89f614b46a7e"
      },
      "execution_count": null,
      "outputs": [
        {
          "output_type": "stream",
          "name": "stdout",
          "text": [
            "% Waste per Outlet\n",
            "                 count      mean       std  min   25%   50%   75%   max\n",
            "sales_outlet_id                                                        \n",
            "3                 97.0  0.592371  0.215444  0.0  0.44  0.56  0.79  0.94\n",
            "5                105.0  0.595048  0.193883  0.0  0.50  0.61  0.72  0.94\n",
            "8                105.0  0.556667  0.216034  0.0  0.44  0.56  0.72  0.96\n"
          ]
        },
        {
          "output_type": "execute_result",
          "data": {
            "text/plain": [
              "<Axes: xlabel='sales_outlet_id', ylabel='% waste'>"
            ]
          },
          "metadata": {},
          "execution_count": 70
        },
        {
          "output_type": "display_data",
          "data": {
            "text/plain": [
              "<Figure size 1500x800 with 1 Axes>"
            ],
            "image/png": "[encoded data removed]"
          },
          "metadata": {}
        }
      ]
    },
    {
      "cell_type": "markdown",
      "source": [
        "each outlet contribute relatively same proportion of waste"
      ],
      "metadata": {
        "id": "vitkGsBtwtk7"
      }
    },
    {
      "cell_type": "code",
      "source": [
        "#Export Excel Table\n",
        "salesoutlet_table.to_excel(path + \"salesoutlet.xlsx\")\n",
        "pastryinventory_table.to_excel(path + \"pastryinventory.xlsx\")\n",
        "product_table.to_excel(path + \"product.xlsx\")\n",
        "salesreciepts_table.to_excel(path + \"salesreciepts.xlsx\")\n",
        "customergenerations_table.to_excel(path + \"customergeneration.xlsx\")"
      ],
      "metadata": {
        "id": "Xj12y0M56-9M"
      },
      "execution_count": null,
      "outputs": []
    }
  ]
}